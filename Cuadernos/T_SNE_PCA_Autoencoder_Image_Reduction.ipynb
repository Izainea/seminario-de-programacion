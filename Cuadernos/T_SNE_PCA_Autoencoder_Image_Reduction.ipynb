{
 "cells": [
  {
   "cell_type": "markdown",
   "id": "241b1bd0",
   "metadata": {},
   "source": [
    "# Aplicación de t-SNE al conjunto de datos de dígitos manuscritos\n",
    "Este cuaderno muestra cómo aplicar el método t-SNE para la reducción de dimensionalidad en el conjunto de datos de dígitos manuscritos y cómo visualizar los resultados.\n"
   ]
  },
  {
   "cell_type": "code",
   "execution_count": null,
   "id": "470bde46",
   "metadata": {},
   "outputs": [],
   "source": [
    "# Importamos las librerías necesarias\n",
    "import numpy as np\n",
    "import matplotlib.pyplot as plt\n",
    "from sklearn import datasets\n",
    "from sklearn.manifold import TSNE"
   ]
  },
  {
   "cell_type": "markdown",
   "id": "6705d4cf",
   "metadata": {},
   "source": [
    "## Cargar el Conjunto de Datos"
   ]
  },
  {
   "cell_type": "code",
   "execution_count": null,
   "id": "16254452",
   "metadata": {},
   "outputs": [],
   "source": [
    "# Cargamos el conjunto de datos de dígitos manuscritos\n",
    "digits = datasets.load_digits()"
   ]
  },
  {
   "cell_type": "markdown",
   "id": "6f15d1a9",
   "metadata": {},
   "source": [
    "## Exploración de los Datos"
   ]
  },
  {
   "cell_type": "code",
   "execution_count": null,
   "id": "bf27aa73",
   "metadata": {},
   "outputs": [],
   "source": [
    "# Datos de las imágenes y las etiquetas\n",
    "X = digits.data  # Datos de las imágenes, cada una es un vector de 64 elementos\n",
    "y = digits.target  # Etiquetas de los dígitos, el número que representan\n",
    "\n",
    "# Mostramos las dimensiones de los datos\n",
    "print(f\"Dimensiones de los datos de las imágenes: {X.shape}\")\n",
    "print(f\"Dimensiones de las etiquetas: {y.shape}\")"
   ]
  },
  {
   "cell_type": "markdown",
   "id": "15ff7b54",
   "metadata": {},
   "source": [
    "## Aplicación de t-SNE"
   ]
  },
  {
   "cell_type": "code",
   "execution_count": null,
   "id": "9edab872",
   "metadata": {},
   "outputs": [],
   "source": [
    "# Configuración de t-SNE con 2 componentes\n",
    "tsne = TSNE(n_components=2, random_state=0)\n",
    "\n",
    "# Reducción de la dimensionalidad\n",
    "X_2d = tsne.fit_transform(X)"
   ]
  },
  {
   "cell_type": "markdown",
   "id": "ae811d0e",
   "metadata": {},
   "source": [
    "## Visualización de los Resultados"
   ]
  },
  {
   "cell_type": "code",
   "execution_count": null,
   "id": "e6d5ac05",
   "metadata": {},
   "outputs": [],
   "source": [
    "# Configuramos el tamaño de la figura\n",
    "plt.figure(figsize=(10, 8))\n",
    "\n",
    "# Colores para los dígitos del 0 al 9\n",
    "colors = ['red', 'green', 'blue', 'cyan', 'magenta', 'yellow', 'black', 'orange', 'darkgrey', 'lime']\n",
    "\n",
    "# Dibujamos los puntos\n",
    "for i, color in enumerate(colors):\n",
    "    plt.scatter(X_2d[y == i, 0], X_2d[y == i, 1], c=color, label=i, alpha=0.5)\n",
    "\n",
    "# Añadimos la leyenda y los títulos\n",
    "plt.legend()\n",
    "plt.title('t-SNE de dígitos manuscritos')\n",
    "plt.xlabel('Componente t-SNE 1')\n",
    "plt.ylabel('Componente t-SNE 2')\n",
    "\n",
    "# Mostramos el gráfico\n",
    "plt.show()"
   ]
  },
  {
   "cell_type": "markdown",
   "id": "c00aa6a1",
   "metadata": {},
   "source": [
    "## Paso 5: Visualización de los Resultados"
   ]
  },
  {
   "cell_type": "code",
   "execution_count": null,
   "id": "c76e5750",
   "metadata": {},
   "outputs": [],
   "source": [
    "# Visualización t-SNE\n",
    "plt.figure(figsize=(6, 6))\n",
    "plt.scatter(transformed_img_tsne[:, 0], transformed_img_tsne[:, 1], marker='.', alpha=0.5)\n",
    "plt.title('Resultado de t-SNE')\n",
    "plt.xlabel('Componente 1')\n",
    "plt.ylabel('Componente 2')\n",
    "plt.show()\n",
    "\n",
    "# Visualización PCA\n",
    "plt.figure(figsize=(6, 6))\n",
    "plt.scatter(transformed_img_pca[:, 0], transformed_img_pca[:, 1], marker='.', alpha=0.5)\n",
    "plt.title('Resultado de PCA')\n",
    "plt.xlabel('Componente Principal 1')\n",
    "plt.ylabel('Componente Principal 2')\n",
    "plt.show()"
   ]
  },
  {
   "cell_type": "code",
   "execution_count": null,
   "id": "215de757",
   "metadata": {},
   "outputs": [],
   "source": [
    "# Para visualizar el resultado del Autoencoder, necesitamos obtener la representación codificada de la imagen\n",
    "encoder = Model(input_img, encoded)\n",
    "encoded_img = encoder.predict(x_train)\n",
    "\n",
    "plt.figure(figsize=(6, 6))\n",
    "plt.scatter(encoded_img[:, 0], encoded_img[:, 1], alpha=0.5)\n",
    "plt.title('Resultado del Autoencoder')\n",
    "plt.xlabel('Dimensión codificada 1')\n",
    "plt.ylabel('Dimensión codificada 2')\n",
    "plt.show()"
   ]
  }
 ],
 "metadata": {
  "language_info": {
   "name": "python"
  }
 },
 "nbformat": 4,
 "nbformat_minor": 5
}
