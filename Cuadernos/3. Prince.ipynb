{
  "cells": [
    {
      "cell_type": "markdown",
      "metadata": {
        "id": "RS3dDW0bsIKi"
      },
      "source": [
        "| ![Isaac Zainea](https://raw.githubusercontent.com/Izainea/Izainea.github.io/master/logo.png) | Módulo Machine Learning | Isaac Zainea |\n",
        "|:---:|:----------------------------------------------------------------------------------:|:---:|"
      ]
    },
    {
      "cell_type": "markdown",
      "metadata": {
        "id": "rrqljLFhsIKj"
      },
      "source": [
        "## Otro paquete: Prince\n",
        "\n",
        "Veremos algunas aplicaciones elementales del paquete prince.\n",
        "\n",
        "Prince es una biblioteca para hacer análisis factorial. Esto incluye una variedad de métodos, incluido el análisis de componentes principales (PCA) y el análisis de correspondencia (CA). El objetivo es proporcionar una implementación eficiente para cada algoritmo junto con una API scikit-learn.\n",
        "\n",
        "\n",
        "## Consideraciones\n",
        "\n",
        "Cada estimador proporcionado por prince amplía TransformerMixin de scikit-learn. Esto significa que cada estimador implementa un a función de ajuste y transformación que los hace utilizables en un proceso de transformación. La función de ajuste es en realidad un alias del método row_principal_components que devuelve los componentes principales de la fila. Sin embargo, también puede acceder a los componentes principales de la columna con column_principal_components.\n",
        "\n",
        "La programación de Prince usa una versión aleatoria de SVD. Esto es mucho más rápido que utilizar el enfoque completo más común. Sin embargo, los resultados pueden tener una pequeña aleatoriedad inherente. Para la mayoría de las aplicaciones, esto no importa y no debería tener que preocuparse por ello. Sin embargo, si desea resultados reproducibles, debe configurar el parámetro random_state.\n",
        "\n",
        "La versión aleatoria de SVD es un método iterativo. Debido a que cada uno de los algoritmos de Prince usa SVD, todos poseen un parámetro n_iter que controla el número de iteraciones utilizadas para calcular el SVD. Por un lado, cuanto mayor sea n_iter, más precisos serán los resultados. Por otro lado, aumentar n_iter aumenta el tiempo de cálculo. En general, el algoritmo converge muy rápidamente, por lo que se recomienda utilizar un n_iter bajo (que es el comportamiento predeterminado).\n",
        "\n",
        "Se supone que debe usar cada método según su situación:\n",
        "\n",
        "* Todas sus variables son numéricas: utilice el análisis de componentes principales (prince.PCA)\n",
        "* Tienes una tabla de contingencia: usa el análisis de correspondencia (prince.CA)\n",
        "*  Tiene más de 2 variables y todas son categóricas: use análisis de correspondencia múltiple (prince.MCA)\n",
        "* Tiene grupos de variables categóricas o numéricas: use análisis de factores múltiples (prince.MFA)\n",
        "* Tiene variables categóricas y numéricas: utilice el análisis factorial de datos mixtos (prince.FAMD)\n"
      ]
    },
    {
      "cell_type": "markdown",
      "metadata": {
        "id": "0q0UEmhwsIKk"
      },
      "source": [
        "## Análisis de componentes principales\n",
        "\n",
        "Todas las variables numéricas"
      ]
    },
    {
      "cell_type": "code",
      "execution_count": null,
      "metadata": {
        "colab": {
          "base_uri": "https://localhost:8080/"
        },
        "id": "JdWVeq8dsIKk",
        "outputId": "8a93dfe8-77b4-44f5-a9df-831ea97d4e16"
      },
      "outputs": [],
      "source": [
        "!pip install prince"
      ]
    },
    {
      "cell_type": "code",
      "execution_count": 46,
      "metadata": {
        "id": "-QOB75XtsIKl"
      },
      "outputs": [],
      "source": [
        "import pandas as pd\n",
        "from prince import PCA\n",
        "from sklearn import datasets\n",
        "\n",
        "X, y = datasets.load_iris(return_X_y=True)\n",
        "X = pd.DataFrame(data=X, columns=['Sepal length', 'Sepal width', 'Petal length', 'Petal width'])\n",
        "y = pd.Series(y).map({0: 'Setosa', 1: 'Versicolor', 2: 'Virginica'})"
      ]
    },
    {
      "cell_type": "code",
      "execution_count": 47,
      "metadata": {
        "id": "DOrXKM_rsIKl"
      },
      "outputs": [],
      "source": [
        "pd.options.display.max_rows = 50"
      ]
    },
    {
      "cell_type": "code",
      "execution_count": 48,
      "metadata": {
        "colab": {
          "base_uri": "https://localhost:8080/",
          "height": 206
        },
        "id": "tcVLaJzEsIKl",
        "outputId": "c5264980-5feb-4a38-dd59-e4395d3f6112"
      },
      "outputs": [
        {
          "data": {
            "text/html": [
              "\n",
              "  <div id=\"df-f34772b0-0da2-4e8d-88b3-5ab7430a5f5c\">\n",
              "    <div class=\"colab-df-container\">\n",
              "      <div>\n",
              "<style scoped>\n",
              "    .dataframe tbody tr th:only-of-type {\n",
              "        vertical-align: middle;\n",
              "    }\n",
              "\n",
              "    .dataframe tbody tr th {\n",
              "        vertical-align: top;\n",
              "    }\n",
              "\n",
              "    .dataframe thead th {\n",
              "        text-align: right;\n",
              "    }\n",
              "</style>\n",
              "<table border=\"1\" class=\"dataframe\">\n",
              "  <thead>\n",
              "    <tr style=\"text-align: right;\">\n",
              "      <th></th>\n",
              "      <th>Sepal length</th>\n",
              "      <th>Sepal width</th>\n",
              "      <th>Petal length</th>\n",
              "      <th>Petal width</th>\n",
              "      <th>Species</th>\n",
              "    </tr>\n",
              "  </thead>\n",
              "  <tbody>\n",
              "    <tr>\n",
              "      <th>0</th>\n",
              "      <td>5.100000</td>\n",
              "      <td>3.500000</td>\n",
              "      <td>1.400000</td>\n",
              "      <td>0.200000</td>\n",
              "      <td>Setosa</td>\n",
              "    </tr>\n",
              "    <tr>\n",
              "      <th>1</th>\n",
              "      <td>4.900000</td>\n",
              "      <td>3.000000</td>\n",
              "      <td>1.400000</td>\n",
              "      <td>0.200000</td>\n",
              "      <td>Setosa</td>\n",
              "    </tr>\n",
              "    <tr>\n",
              "      <th>2</th>\n",
              "      <td>4.700000</td>\n",
              "      <td>3.200000</td>\n",
              "      <td>1.300000</td>\n",
              "      <td>0.200000</td>\n",
              "      <td>Setosa</td>\n",
              "    </tr>\n",
              "    <tr>\n",
              "      <th>3</th>\n",
              "      <td>4.600000</td>\n",
              "      <td>3.100000</td>\n",
              "      <td>1.500000</td>\n",
              "      <td>0.200000</td>\n",
              "      <td>Setosa</td>\n",
              "    </tr>\n",
              "    <tr>\n",
              "      <th>4</th>\n",
              "      <td>5.000000</td>\n",
              "      <td>3.600000</td>\n",
              "      <td>1.400000</td>\n",
              "      <td>0.200000</td>\n",
              "      <td>Setosa</td>\n",
              "    </tr>\n",
              "  </tbody>\n",
              "</table>\n",
              "</div>\n",
              "      <button class=\"colab-df-convert\" onclick=\"convertToInteractive('df-f34772b0-0da2-4e8d-88b3-5ab7430a5f5c')\"\n",
              "              title=\"Convert this dataframe to an interactive table.\"\n",
              "              style=\"display:none;\">\n",
              "        \n",
              "  <svg xmlns=\"http://www.w3.org/2000/svg\" height=\"24px\"viewBox=\"0 0 24 24\"\n",
              "       width=\"24px\">\n",
              "    <path d=\"M0 0h24v24H0V0z\" fill=\"none\"/>\n",
              "    <path d=\"M18.56 5.44l.94 2.06.94-2.06 2.06-.94-2.06-.94-.94-2.06-.94 2.06-2.06.94zm-11 1L8.5 8.5l.94-2.06 2.06-.94-2.06-.94L8.5 2.5l-.94 2.06-2.06.94zm10 10l.94 2.06.94-2.06 2.06-.94-2.06-.94-.94-2.06-.94 2.06-2.06.94z\"/><path d=\"M17.41 7.96l-1.37-1.37c-.4-.4-.92-.59-1.43-.59-.52 0-1.04.2-1.43.59L10.3 9.45l-7.72 7.72c-.78.78-.78 2.05 0 2.83L4 21.41c.39.39.9.59 1.41.59.51 0 1.02-.2 1.41-.59l7.78-7.78 2.81-2.81c.8-.78.8-2.07 0-2.86zM5.41 20L4 18.59l7.72-7.72 1.47 1.35L5.41 20z\"/>\n",
              "  </svg>\n",
              "      </button>\n",
              "      \n",
              "  <style>\n",
              "    .colab-df-container {\n",
              "      display:flex;\n",
              "      flex-wrap:wrap;\n",
              "      gap: 12px;\n",
              "    }\n",
              "\n",
              "    .colab-df-convert {\n",
              "      background-color: #E8F0FE;\n",
              "      border: none;\n",
              "      border-radius: 50%;\n",
              "      cursor: pointer;\n",
              "      display: none;\n",
              "      fill: #1967D2;\n",
              "      height: 32px;\n",
              "      padding: 0 0 0 0;\n",
              "      width: 32px;\n",
              "    }\n",
              "\n",
              "    .colab-df-convert:hover {\n",
              "      background-color: #E2EBFA;\n",
              "      box-shadow: 0px 1px 2px rgba(60, 64, 67, 0.3), 0px 1px 3px 1px rgba(60, 64, 67, 0.15);\n",
              "      fill: #174EA6;\n",
              "    }\n",
              "\n",
              "    [theme=dark] .colab-df-convert {\n",
              "      background-color: #3B4455;\n",
              "      fill: #D2E3FC;\n",
              "    }\n",
              "\n",
              "    [theme=dark] .colab-df-convert:hover {\n",
              "      background-color: #434B5C;\n",
              "      box-shadow: 0px 1px 3px 1px rgba(0, 0, 0, 0.15);\n",
              "      filter: drop-shadow(0px 1px 2px rgba(0, 0, 0, 0.3));\n",
              "      fill: #FFFFFF;\n",
              "    }\n",
              "  </style>\n",
              "\n",
              "      <script>\n",
              "        const buttonEl =\n",
              "          document.querySelector('#df-f34772b0-0da2-4e8d-88b3-5ab7430a5f5c button.colab-df-convert');\n",
              "        buttonEl.style.display =\n",
              "          google.colab.kernel.accessAllowed ? 'block' : 'none';\n",
              "\n",
              "        async function convertToInteractive(key) {\n",
              "          const element = document.querySelector('#df-f34772b0-0da2-4e8d-88b3-5ab7430a5f5c');\n",
              "          const dataTable =\n",
              "            await google.colab.kernel.invokeFunction('convertToInteractive',\n",
              "                                                     [key], {});\n",
              "          if (!dataTable) return;\n",
              "\n",
              "          const docLinkHtml = 'Like what you see? Visit the ' +\n",
              "            '<a target=\"_blank\" href=https://colab.research.google.com/notebooks/data_table.ipynb>data table notebook</a>'\n",
              "            + ' to learn more about interactive tables.';\n",
              "          element.innerHTML = '';\n",
              "          dataTable['output_type'] = 'display_data';\n",
              "          await google.colab.output.renderOutput(dataTable, element);\n",
              "          const docLink = document.createElement('div');\n",
              "          docLink.innerHTML = docLinkHtml;\n",
              "          element.appendChild(docLink);\n",
              "        }\n",
              "      </script>\n",
              "    </div>\n",
              "  </div>\n",
              "  "
            ],
            "text/plain": [
              "   Sepal length  Sepal width  Petal length  Petal width Species\n",
              "0      5.100000     3.500000      1.400000     0.200000  Setosa\n",
              "1      4.900000     3.000000      1.400000     0.200000  Setosa\n",
              "2      4.700000     3.200000      1.300000     0.200000  Setosa\n",
              "3      4.600000     3.100000      1.500000     0.200000  Setosa\n",
              "4      5.000000     3.600000      1.400000     0.200000  Setosa"
            ]
          },
          "execution_count": 48,
          "metadata": {},
          "output_type": "execute_result"
        }
      ],
      "source": [
        "DF=pd.concat([X,y],axis=1)\n",
        "DF.columns=['Sepal length','Sepal width','Petal length','Petal width','Species']\n",
        "DF.head()"
      ]
    },
    {
      "cell_type": "code",
      "execution_count": 49,
      "metadata": {
        "colab": {
          "base_uri": "https://localhost:8080/",
          "height": 467
        },
        "id": "6O3MR90IsIKl",
        "outputId": "27e79df8-6f69-4dac-e5fe-a2553ec22c40"
      },
      "outputs": [
        {
          "data": {
            "text/plain": [
              "<Axes: xlabel='Species', ylabel='Sepal length'>"
            ]
          },
          "execution_count": 49,
          "metadata": {},
          "output_type": "execute_result"
        },
        {
          "data": {
            "image/png": "[encoded data removed]",
            "text/plain": [
              "<Figure size 640x480 with 1 Axes>"
            ]
          },
          "metadata": {},
          "output_type": "display_data"
        }
      ],
      "source": [
        "import matplotlib.pyplot as plt\n",
        "import seaborn as sns\n",
        "\n",
        "sns.boxplot(x='Species', y='Sepal length', data=DF)"
      ]
    },
    {
      "cell_type": "code",
      "execution_count": 50,
      "metadata": {
        "colab": {
          "base_uri": "https://localhost:8080/",
          "height": 467
        },
        "id": "pLwePo98sIKm",
        "outputId": "fd290457-4aa3-45fb-f606-0240e2fd984a"
      },
      "outputs": [
        {
          "data": {
            "text/plain": [
              "<Axes: xlabel='Sepal width', ylabel='Petal width'>"
            ]
          },
          "execution_count": 50,
          "metadata": {},
          "output_type": "execute_result"
        },
        {
          "data": {
            "image/png": "[encoded data removed]",
            "text/plain": [
              "<Figure size 640x480 with 1 Axes>"
            ]
          },
          "metadata": {},
          "output_type": "display_data"
        }
      ],
      "source": [
        "sns.scatterplot(x='Sepal width', y='Petal width', hue='Species', data=DF)"
      ]
    },
    {
      "cell_type": "code",
      "execution_count": 51,
      "metadata": {
        "colab": {
          "base_uri": "https://localhost:8080/",
          "height": 467
        },
        "id": "8ID4DyVRyd0Q",
        "outputId": "ea4d1400-11ec-4b91-a940-d2ff2ec994e4"
      },
      "outputs": [
        {
          "data": {
            "text/plain": [
              "<Axes: xlabel='Sepal length', ylabel='Petal length'>"
            ]
          },
          "execution_count": 51,
          "metadata": {},
          "output_type": "execute_result"
        },
        {
          "data": {
            "image/png": "[encoded data removed]",
            "text/plain": [
              "<Figure size 640x480 with 1 Axes>"
            ]
          },
          "metadata": {},
          "output_type": "display_data"
        }
      ],
      "source": [
        "sns.scatterplot(x='Sepal length', y='Petal length', hue='Species', data=DF)"
      ]
    },
    {
      "cell_type": "code",
      "execution_count": 52,
      "metadata": {
        "id": "qV0VjMHhsIKm"
      },
      "outputs": [],
      "source": [
        "pca = PCA(\n",
        "    n_components=2,\n",
        "     n_iter=3,\n",
        "     rescale_with_mean=True,\n",
        "     rescale_with_std=True,\n",
        "     copy=True,\n",
        "     check_input=True,\n",
        "     engine='scipy',\n",
        "     random_state=42\n",
        " )"
      ]
    },
    {
      "cell_type": "code",
      "execution_count": 53,
      "metadata": {
        "colab": {
          "base_uri": "https://localhost:8080/",
          "height": 75
        },
        "id": "E8ZeXYGpsIKm",
        "outputId": "a9e4d21d-ee6b-4fcc-ac06-d2e85fdc3a62"
      },
      "outputs": [
        {
          "data": {
            "text/html": [
              "<style>#sk-container-id-4 {color: black;background-color: white;}#sk-container-id-4 pre{padding: 0;}#sk-container-id-4 div.sk-toggleable {background-color: white;}#sk-container-id-4 label.sk-toggleable__label {cursor: pointer;display: block;width: 100%;margin-bottom: 0;padding: 0.3em;box-sizing: border-box;text-align: center;}#sk-container-id-4 label.sk-toggleable__label-arrow:before {content: \"▸\";float: left;margin-right: 0.25em;color: #696969;}#sk-container-id-4 label.sk-toggleable__label-arrow:hover:before {color: black;}#sk-container-id-4 div.sk-estimator:hover label.sk-toggleable__label-arrow:before {color: black;}#sk-container-id-4 div.sk-toggleable__content {max-height: 0;max-width: 0;overflow: hidden;text-align: left;background-color: #f0f8ff;}#sk-container-id-4 div.sk-toggleable__content pre {margin: 0.2em;color: black;border-radius: 0.25em;background-color: #f0f8ff;}#sk-container-id-4 input.sk-toggleable__control:checked~div.sk-toggleable__content {max-height: 200px;max-width: 100%;overflow: auto;}#sk-container-id-4 input.sk-toggleable__control:checked~label.sk-toggleable__label-arrow:before {content: \"▾\";}#sk-container-id-4 div.sk-estimator input.sk-toggleable__control:checked~label.sk-toggleable__label {background-color: #d4ebff;}#sk-container-id-4 div.sk-label input.sk-toggleable__control:checked~label.sk-toggleable__label {background-color: #d4ebff;}#sk-container-id-4 input.sk-hidden--visually {border: 0;clip: rect(1px 1px 1px 1px);clip: rect(1px, 1px, 1px, 1px);height: 1px;margin: -1px;overflow: hidden;padding: 0;position: absolute;width: 1px;}#sk-container-id-4 div.sk-estimator {font-family: monospace;background-color: #f0f8ff;border: 1px dotted black;border-radius: 0.25em;box-sizing: border-box;margin-bottom: 0.5em;}#sk-container-id-4 div.sk-estimator:hover {background-color: #d4ebff;}#sk-container-id-4 div.sk-parallel-item::after {content: \"\";width: 100%;border-bottom: 1px solid gray;flex-grow: 1;}#sk-container-id-4 div.sk-label:hover label.sk-toggleable__label {background-color: #d4ebff;}#sk-container-id-4 div.sk-serial::before {content: \"\";position: absolute;border-left: 1px solid gray;box-sizing: border-box;top: 0;bottom: 0;left: 50%;z-index: 0;}#sk-container-id-4 div.sk-serial {display: flex;flex-direction: column;align-items: center;background-color: white;padding-right: 0.2em;padding-left: 0.2em;position: relative;}#sk-container-id-4 div.sk-item {position: relative;z-index: 1;}#sk-container-id-4 div.sk-parallel {display: flex;align-items: stretch;justify-content: center;background-color: white;position: relative;}#sk-container-id-4 div.sk-item::before, #sk-container-id-4 div.sk-parallel-item::before {content: \"\";position: absolute;border-left: 1px solid gray;box-sizing: border-box;top: 0;bottom: 0;left: 50%;z-index: -1;}#sk-container-id-4 div.sk-parallel-item {display: flex;flex-direction: column;z-index: 1;position: relative;background-color: white;}#sk-container-id-4 div.sk-parallel-item:first-child::after {align-self: flex-end;width: 50%;}#sk-container-id-4 div.sk-parallel-item:last-child::after {align-self: flex-start;width: 50%;}#sk-container-id-4 div.sk-parallel-item:only-child::after {width: 0;}#sk-container-id-4 div.sk-dashed-wrapped {border: 1px dashed gray;margin: 0 0.4em 0.5em 0.4em;box-sizing: border-box;padding-bottom: 0.4em;background-color: white;}#sk-container-id-4 div.sk-label label {font-family: monospace;font-weight: bold;display: inline-block;line-height: 1.2em;}#sk-container-id-4 div.sk-label-container {text-align: center;}#sk-container-id-4 div.sk-container {/* jupyter's `normalize.less` sets `[hidden] { display: none; }` but bootstrap.min.css set `[hidden] { display: none !important; }` so we also need the `!important` here to be able to override the default hidden behavior on the sphinx rendered scikit-learn.org. See: https://github.com/scikit-learn/scikit-learn/issues/21755 */display: inline-block !important;position: relative;}#sk-container-id-4 div.sk-text-repr-fallback {display: none;}</style><div id=\"sk-container-id-4\" class=\"sk-top-container\"><div class=\"sk-text-repr-fallback\"><pre>PCA(engine=&#x27;scipy&#x27;, random_state=42)</pre><b>In a Jupyter environment, please rerun this cell to show the HTML representation or trust the notebook. <br />On GitHub, the HTML representation is unable to render, please try loading this page with nbviewer.org.</b></div><div class=\"sk-container\" hidden><div class=\"sk-item\"><div class=\"sk-estimator sk-toggleable\"><input class=\"sk-toggleable__control sk-hidden--visually\" id=\"sk-estimator-id-4\" type=\"checkbox\" checked><label for=\"sk-estimator-id-4\" class=\"sk-toggleable__label sk-toggleable__label-arrow\">PCA</label><div class=\"sk-toggleable__content\"><pre>PCA(engine=&#x27;scipy&#x27;, random_state=42)</pre></div></div></div></div></div>"
            ],
            "text/plain": [
              "PCA(engine='scipy', random_state=42)"
            ]
          },
          "execution_count": 53,
          "metadata": {},
          "output_type": "execute_result"
        }
      ],
      "source": [
        "pca"
      ]
    },
    {
      "cell_type": "code",
      "execution_count": 54,
      "metadata": {
        "colab": {
          "base_uri": "https://localhost:8080/",
          "height": 424
        },
        "id": "m_dVdPj80GNP",
        "outputId": "abebab12-dfcb-468b-f1d2-1af0266736e3"
      },
      "outputs": [
        {
          "data": {
            "text/html": [
              "\n",
              "  <div id=\"df-20dab1c4-920d-4d79-82c9-880349e021fc\">\n",
              "    <div class=\"colab-df-container\">\n",
              "      <div>\n",
              "<style scoped>\n",
              "    .dataframe tbody tr th:only-of-type {\n",
              "        vertical-align: middle;\n",
              "    }\n",
              "\n",
              "    .dataframe tbody tr th {\n",
              "        vertical-align: top;\n",
              "    }\n",
              "\n",
              "    .dataframe thead th {\n",
              "        text-align: right;\n",
              "    }\n",
              "</style>\n",
              "<table border=\"1\" class=\"dataframe\">\n",
              "  <thead>\n",
              "    <tr style=\"text-align: right;\">\n",
              "      <th></th>\n",
              "      <th>Sepal length</th>\n",
              "      <th>Sepal width</th>\n",
              "      <th>Petal length</th>\n",
              "      <th>Petal width</th>\n",
              "    </tr>\n",
              "  </thead>\n",
              "  <tbody>\n",
              "    <tr>\n",
              "      <th>0</th>\n",
              "      <td>5.100000</td>\n",
              "      <td>3.500000</td>\n",
              "      <td>1.400000</td>\n",
              "      <td>0.200000</td>\n",
              "    </tr>\n",
              "    <tr>\n",
              "      <th>1</th>\n",
              "      <td>4.900000</td>\n",
              "      <td>3.000000</td>\n",
              "      <td>1.400000</td>\n",
              "      <td>0.200000</td>\n",
              "    </tr>\n",
              "    <tr>\n",
              "      <th>2</th>\n",
              "      <td>4.700000</td>\n",
              "      <td>3.200000</td>\n",
              "      <td>1.300000</td>\n",
              "      <td>0.200000</td>\n",
              "    </tr>\n",
              "    <tr>\n",
              "      <th>3</th>\n",
              "      <td>4.600000</td>\n",
              "      <td>3.100000</td>\n",
              "      <td>1.500000</td>\n",
              "      <td>0.200000</td>\n",
              "    </tr>\n",
              "    <tr>\n",
              "      <th>4</th>\n",
              "      <td>5.000000</td>\n",
              "      <td>3.600000</td>\n",
              "      <td>1.400000</td>\n",
              "      <td>0.200000</td>\n",
              "    </tr>\n",
              "    <tr>\n",
              "      <th>...</th>\n",
              "      <td>...</td>\n",
              "      <td>...</td>\n",
              "      <td>...</td>\n",
              "      <td>...</td>\n",
              "    </tr>\n",
              "    <tr>\n",
              "      <th>145</th>\n",
              "      <td>6.700000</td>\n",
              "      <td>3.000000</td>\n",
              "      <td>5.200000</td>\n",
              "      <td>2.300000</td>\n",
              "    </tr>\n",
              "    <tr>\n",
              "      <th>146</th>\n",
              "      <td>6.300000</td>\n",
              "      <td>2.500000</td>\n",
              "      <td>5.000000</td>\n",
              "      <td>1.900000</td>\n",
              "    </tr>\n",
              "    <tr>\n",
              "      <th>147</th>\n",
              "      <td>6.500000</td>\n",
              "      <td>3.000000</td>\n",
              "      <td>5.200000</td>\n",
              "      <td>2.000000</td>\n",
              "    </tr>\n",
              "    <tr>\n",
              "      <th>148</th>\n",
              "      <td>6.200000</td>\n",
              "      <td>3.400000</td>\n",
              "      <td>5.400000</td>\n",
              "      <td>2.300000</td>\n",
              "    </tr>\n",
              "    <tr>\n",
              "      <th>149</th>\n",
              "      <td>5.900000</td>\n",
              "      <td>3.000000</td>\n",
              "      <td>5.100000</td>\n",
              "      <td>1.800000</td>\n",
              "    </tr>\n",
              "  </tbody>\n",
              "</table>\n",
              "<p>150 rows × 4 columns</p>\n",
              "</div>\n",
              "      <button class=\"colab-df-convert\" onclick=\"convertToInteractive('df-20dab1c4-920d-4d79-82c9-880349e021fc')\"\n",
              "              title=\"Convert this dataframe to an interactive table.\"\n",
              "              style=\"display:none;\">\n",
              "        \n",
              "  <svg xmlns=\"http://www.w3.org/2000/svg\" height=\"24px\"viewBox=\"0 0 24 24\"\n",
              "       width=\"24px\">\n",
              "    <path d=\"M0 0h24v24H0V0z\" fill=\"none\"/>\n",
              "    <path d=\"M18.56 5.44l.94 2.06.94-2.06 2.06-.94-2.06-.94-.94-2.06-.94 2.06-2.06.94zm-11 1L8.5 8.5l.94-2.06 2.06-.94-2.06-.94L8.5 2.5l-.94 2.06-2.06.94zm10 10l.94 2.06.94-2.06 2.06-.94-2.06-.94-.94-2.06-.94 2.06-2.06.94z\"/><path d=\"M17.41 7.96l-1.37-1.37c-.4-.4-.92-.59-1.43-.59-.52 0-1.04.2-1.43.59L10.3 9.45l-7.72 7.72c-.78.78-.78 2.05 0 2.83L4 21.41c.39.39.9.59 1.41.59.51 0 1.02-.2 1.41-.59l7.78-7.78 2.81-2.81c.8-.78.8-2.07 0-2.86zM5.41 20L4 18.59l7.72-7.72 1.47 1.35L5.41 20z\"/>\n",
              "  </svg>\n",
              "      </button>\n",
              "      \n",
              "  <style>\n",
              "    .colab-df-container {\n",
              "      display:flex;\n",
              "      flex-wrap:wrap;\n",
              "      gap: 12px;\n",
              "    }\n",
              "\n",
              "    .colab-df-convert {\n",
              "      background-color: #E8F0FE;\n",
              "      border: none;\n",
              "      border-radius: 50%;\n",
              "      cursor: pointer;\n",
              "      display: none;\n",
              "      fill: #1967D2;\n",
              "      height: 32px;\n",
              "      padding: 0 0 0 0;\n",
              "      width: 32px;\n",
              "    }\n",
              "\n",
              "    .colab-df-convert:hover {\n",
              "      background-color: #E2EBFA;\n",
              "      box-shadow: 0px 1px 2px rgba(60, 64, 67, 0.3), 0px 1px 3px 1px rgba(60, 64, 67, 0.15);\n",
              "      fill: #174EA6;\n",
              "    }\n",
              "\n",
              "    [theme=dark] .colab-df-convert {\n",
              "      background-color: #3B4455;\n",
              "      fill: #D2E3FC;\n",
              "    }\n",
              "\n",
              "    [theme=dark] .colab-df-convert:hover {\n",
              "      background-color: #434B5C;\n",
              "      box-shadow: 0px 1px 3px 1px rgba(0, 0, 0, 0.15);\n",
              "      filter: drop-shadow(0px 1px 2px rgba(0, 0, 0, 0.3));\n",
              "      fill: #FFFFFF;\n",
              "    }\n",
              "  </style>\n",
              "\n",
              "      <script>\n",
              "        const buttonEl =\n",
              "          document.querySelector('#df-20dab1c4-920d-4d79-82c9-880349e021fc button.colab-df-convert');\n",
              "        buttonEl.style.display =\n",
              "          google.colab.kernel.accessAllowed ? 'block' : 'none';\n",
              "\n",
              "        async function convertToInteractive(key) {\n",
              "          const element = document.querySelector('#df-20dab1c4-920d-4d79-82c9-880349e021fc');\n",
              "          const dataTable =\n",
              "            await google.colab.kernel.invokeFunction('convertToInteractive',\n",
              "                                                     [key], {});\n",
              "          if (!dataTable) return;\n",
              "\n",
              "          const docLinkHtml = 'Like what you see? Visit the ' +\n",
              "            '<a target=\"_blank\" href=https://colab.research.google.com/notebooks/data_table.ipynb>data table notebook</a>'\n",
              "            + ' to learn more about interactive tables.';\n",
              "          element.innerHTML = '';\n",
              "          dataTable['output_type'] = 'display_data';\n",
              "          await google.colab.output.renderOutput(dataTable, element);\n",
              "          const docLink = document.createElement('div');\n",
              "          docLink.innerHTML = docLinkHtml;\n",
              "          element.appendChild(docLink);\n",
              "        }\n",
              "      </script>\n",
              "    </div>\n",
              "  </div>\n",
              "  "
            ],
            "text/plain": [
              "     Sepal length  Sepal width  Petal length  Petal width\n",
              "0        5.100000     3.500000      1.400000     0.200000\n",
              "1        4.900000     3.000000      1.400000     0.200000\n",
              "2        4.700000     3.200000      1.300000     0.200000\n",
              "3        4.600000     3.100000      1.500000     0.200000\n",
              "4        5.000000     3.600000      1.400000     0.200000\n",
              "..            ...          ...           ...          ...\n",
              "145      6.700000     3.000000      5.200000     2.300000\n",
              "146      6.300000     2.500000      5.000000     1.900000\n",
              "147      6.500000     3.000000      5.200000     2.000000\n",
              "148      6.200000     3.400000      5.400000     2.300000\n",
              "149      5.900000     3.000000      5.100000     1.800000\n",
              "\n",
              "[150 rows x 4 columns]"
            ]
          },
          "execution_count": 54,
          "metadata": {},
          "output_type": "execute_result"
        }
      ],
      "source": [
        "X"
      ]
    },
    {
      "cell_type": "code",
      "execution_count": 55,
      "metadata": {
        "id": "cjXZx3kDsIKm"
      },
      "outputs": [],
      "source": [
        "pca = pca.fit(X,)"
      ]
    },
    {
      "cell_type": "code",
      "execution_count": 56,
      "metadata": {
        "colab": {
          "base_uri": "https://localhost:8080/",
          "height": 424
        },
        "id": "5hhJQ2zYsIKm",
        "outputId": "4002e439-d1e0-4de4-a981-e0d6beb5551d"
      },
      "outputs": [
        {
          "data": {
            "text/html": [
              "\n",
              "  <div id=\"df-72d5716f-9176-475f-946f-88298f098bd1\">\n",
              "    <div class=\"colab-df-container\">\n",
              "      <div>\n",
              "<style scoped>\n",
              "    .dataframe tbody tr th:only-of-type {\n",
              "        vertical-align: middle;\n",
              "    }\n",
              "\n",
              "    .dataframe tbody tr th {\n",
              "        vertical-align: top;\n",
              "    }\n",
              "\n",
              "    .dataframe thead th {\n",
              "        text-align: right;\n",
              "    }\n",
              "</style>\n",
              "<table border=\"1\" class=\"dataframe\">\n",
              "  <thead>\n",
              "    <tr style=\"text-align: right;\">\n",
              "      <th></th>\n",
              "      <th>Sepal length</th>\n",
              "      <th>Sepal width</th>\n",
              "      <th>Petal length</th>\n",
              "      <th>Petal width</th>\n",
              "    </tr>\n",
              "  </thead>\n",
              "  <tbody>\n",
              "    <tr>\n",
              "      <th>0</th>\n",
              "      <td>5.100000</td>\n",
              "      <td>3.500000</td>\n",
              "      <td>1.400000</td>\n",
              "      <td>0.200000</td>\n",
              "    </tr>\n",
              "    <tr>\n",
              "      <th>1</th>\n",
              "      <td>4.900000</td>\n",
              "      <td>3.000000</td>\n",
              "      <td>1.400000</td>\n",
              "      <td>0.200000</td>\n",
              "    </tr>\n",
              "    <tr>\n",
              "      <th>2</th>\n",
              "      <td>4.700000</td>\n",
              "      <td>3.200000</td>\n",
              "      <td>1.300000</td>\n",
              "      <td>0.200000</td>\n",
              "    </tr>\n",
              "    <tr>\n",
              "      <th>3</th>\n",
              "      <td>4.600000</td>\n",
              "      <td>3.100000</td>\n",
              "      <td>1.500000</td>\n",
              "      <td>0.200000</td>\n",
              "    </tr>\n",
              "    <tr>\n",
              "      <th>4</th>\n",
              "      <td>5.000000</td>\n",
              "      <td>3.600000</td>\n",
              "      <td>1.400000</td>\n",
              "      <td>0.200000</td>\n",
              "    </tr>\n",
              "    <tr>\n",
              "      <th>...</th>\n",
              "      <td>...</td>\n",
              "      <td>...</td>\n",
              "      <td>...</td>\n",
              "      <td>...</td>\n",
              "    </tr>\n",
              "    <tr>\n",
              "      <th>145</th>\n",
              "      <td>6.700000</td>\n",
              "      <td>3.000000</td>\n",
              "      <td>5.200000</td>\n",
              "      <td>2.300000</td>\n",
              "    </tr>\n",
              "    <tr>\n",
              "      <th>146</th>\n",
              "      <td>6.300000</td>\n",
              "      <td>2.500000</td>\n",
              "      <td>5.000000</td>\n",
              "      <td>1.900000</td>\n",
              "    </tr>\n",
              "    <tr>\n",
              "      <th>147</th>\n",
              "      <td>6.500000</td>\n",
              "      <td>3.000000</td>\n",
              "      <td>5.200000</td>\n",
              "      <td>2.000000</td>\n",
              "    </tr>\n",
              "    <tr>\n",
              "      <th>148</th>\n",
              "      <td>6.200000</td>\n",
              "      <td>3.400000</td>\n",
              "      <td>5.400000</td>\n",
              "      <td>2.300000</td>\n",
              "    </tr>\n",
              "    <tr>\n",
              "      <th>149</th>\n",
              "      <td>5.900000</td>\n",
              "      <td>3.000000</td>\n",
              "      <td>5.100000</td>\n",
              "      <td>1.800000</td>\n",
              "    </tr>\n",
              "  </tbody>\n",
              "</table>\n",
              "<p>150 rows × 4 columns</p>\n",
              "</div>\n",
              "      <button class=\"colab-df-convert\" onclick=\"convertToInteractive('df-72d5716f-9176-475f-946f-88298f098bd1')\"\n",
              "              title=\"Convert this dataframe to an interactive table.\"\n",
              "              style=\"display:none;\">\n",
              "        \n",
              "  <svg xmlns=\"http://www.w3.org/2000/svg\" height=\"24px\"viewBox=\"0 0 24 24\"\n",
              "       width=\"24px\">\n",
              "    <path d=\"M0 0h24v24H0V0z\" fill=\"none\"/>\n",
              "    <path d=\"M18.56 5.44l.94 2.06.94-2.06 2.06-.94-2.06-.94-.94-2.06-.94 2.06-2.06.94zm-11 1L8.5 8.5l.94-2.06 2.06-.94-2.06-.94L8.5 2.5l-.94 2.06-2.06.94zm10 10l.94 2.06.94-2.06 2.06-.94-2.06-.94-.94-2.06-.94 2.06-2.06.94z\"/><path d=\"M17.41 7.96l-1.37-1.37c-.4-.4-.92-.59-1.43-.59-.52 0-1.04.2-1.43.59L10.3 9.45l-7.72 7.72c-.78.78-.78 2.05 0 2.83L4 21.41c.39.39.9.59 1.41.59.51 0 1.02-.2 1.41-.59l7.78-7.78 2.81-2.81c.8-.78.8-2.07 0-2.86zM5.41 20L4 18.59l7.72-7.72 1.47 1.35L5.41 20z\"/>\n",
              "  </svg>\n",
              "      </button>\n",
              "      \n",
              "  <style>\n",
              "    .colab-df-container {\n",
              "      display:flex;\n",
              "      flex-wrap:wrap;\n",
              "      gap: 12px;\n",
              "    }\n",
              "\n",
              "    .colab-df-convert {\n",
              "      background-color: #E8F0FE;\n",
              "      border: none;\n",
              "      border-radius: 50%;\n",
              "      cursor: pointer;\n",
              "      display: none;\n",
              "      fill: #1967D2;\n",
              "      height: 32px;\n",
              "      padding: 0 0 0 0;\n",
              "      width: 32px;\n",
              "    }\n",
              "\n",
              "    .colab-df-convert:hover {\n",
              "      background-color: #E2EBFA;\n",
              "      box-shadow: 0px 1px 2px rgba(60, 64, 67, 0.3), 0px 1px 3px 1px rgba(60, 64, 67, 0.15);\n",
              "      fill: #174EA6;\n",
              "    }\n",
              "\n",
              "    [theme=dark] .colab-df-convert {\n",
              "      background-color: #3B4455;\n",
              "      fill: #D2E3FC;\n",
              "    }\n",
              "\n",
              "    [theme=dark] .colab-df-convert:hover {\n",
              "      background-color: #434B5C;\n",
              "      box-shadow: 0px 1px 3px 1px rgba(0, 0, 0, 0.15);\n",
              "      filter: drop-shadow(0px 1px 2px rgba(0, 0, 0, 0.3));\n",
              "      fill: #FFFFFF;\n",
              "    }\n",
              "  </style>\n",
              "\n",
              "      <script>\n",
              "        const buttonEl =\n",
              "          document.querySelector('#df-72d5716f-9176-475f-946f-88298f098bd1 button.colab-df-convert');\n",
              "        buttonEl.style.display =\n",
              "          google.colab.kernel.accessAllowed ? 'block' : 'none';\n",
              "\n",
              "        async function convertToInteractive(key) {\n",
              "          const element = document.querySelector('#df-72d5716f-9176-475f-946f-88298f098bd1');\n",
              "          const dataTable =\n",
              "            await google.colab.kernel.invokeFunction('convertToInteractive',\n",
              "                                                     [key], {});\n",
              "          if (!dataTable) return;\n",
              "\n",
              "          const docLinkHtml = 'Like what you see? Visit the ' +\n",
              "            '<a target=\"_blank\" href=https://colab.research.google.com/notebooks/data_table.ipynb>data table notebook</a>'\n",
              "            + ' to learn more about interactive tables.';\n",
              "          element.innerHTML = '';\n",
              "          dataTable['output_type'] = 'display_data';\n",
              "          await google.colab.output.renderOutput(dataTable, element);\n",
              "          const docLink = document.createElement('div');\n",
              "          docLink.innerHTML = docLinkHtml;\n",
              "          element.appendChild(docLink);\n",
              "        }\n",
              "      </script>\n",
              "    </div>\n",
              "  </div>\n",
              "  "
            ],
            "text/plain": [
              "     Sepal length  Sepal width  Petal length  Petal width\n",
              "0        5.100000     3.500000      1.400000     0.200000\n",
              "1        4.900000     3.000000      1.400000     0.200000\n",
              "2        4.700000     3.200000      1.300000     0.200000\n",
              "3        4.600000     3.100000      1.500000     0.200000\n",
              "4        5.000000     3.600000      1.400000     0.200000\n",
              "..            ...          ...           ...          ...\n",
              "145      6.700000     3.000000      5.200000     2.300000\n",
              "146      6.300000     2.500000      5.000000     1.900000\n",
              "147      6.500000     3.000000      5.200000     2.000000\n",
              "148      6.200000     3.400000      5.400000     2.300000\n",
              "149      5.900000     3.000000      5.100000     1.800000\n",
              "\n",
              "[150 rows x 4 columns]"
            ]
          },
          "execution_count": 56,
          "metadata": {},
          "output_type": "execute_result"
        }
      ],
      "source": [
        "X"
      ]
    },
    {
      "cell_type": "markdown",
      "metadata": {
        "id": "Ij4ykzRfsIKm"
      },
      "source": [
        "Los parámetros disponibles son:\n",
        "\n",
        "* n_components: el número de componentes que se calculan. Solo necesita dos si su intención es hacer un gráfico.\n",
        "* n_iter: el número de iteraciones utilizadas para calcular la SVD\n",
        "* rescale_with_mean: si restar la media de cada columna\n",
        "* rescale_with_std: si dividir cada columna por su desviación estándar\n",
        "* copy: si es False, los cálculos se realizarán en el lugar, lo que puede tener posibles efectos secundarios en los datos de entrada\n",
        "* engine: qué motor SVD usar (debe ser uno de ['auto', 'fbpca', 'sklearn'])\n",
        "* random_state: controla la aleatoriedad de los resultados de SVD.\n",
        "\n",
        "Una vez que se ha ajustado el PCA, se puede utilizar para extraer las coordenadas principales de la fila de la siguiente manera:"
      ]
    },
    {
      "cell_type": "code",
      "execution_count": 57,
      "metadata": {
        "colab": {
          "base_uri": "https://localhost:8080/",
          "height": 424
        },
        "id": "mtmFs1a_sIKm",
        "outputId": "5367e64c-9e5c-45a9-8c41-3a981aa5cfc1"
      },
      "outputs": [
        {
          "data": {
            "text/html": [
              "\n",
              "  <div id=\"df-6a19f7fc-411c-49d4-b993-5faf42d5dd5a\">\n",
              "    <div class=\"colab-df-container\">\n",
              "      <div>\n",
              "<style scoped>\n",
              "    .dataframe tbody tr th:only-of-type {\n",
              "        vertical-align: middle;\n",
              "    }\n",
              "\n",
              "    .dataframe tbody tr th {\n",
              "        vertical-align: top;\n",
              "    }\n",
              "\n",
              "    .dataframe thead th {\n",
              "        text-align: right;\n",
              "    }\n",
              "</style>\n",
              "<table border=\"1\" class=\"dataframe\">\n",
              "  <thead>\n",
              "    <tr style=\"text-align: right;\">\n",
              "      <th></th>\n",
              "      <th>Componente 1</th>\n",
              "      <th>Componente 2</th>\n",
              "    </tr>\n",
              "  </thead>\n",
              "  <tbody>\n",
              "    <tr>\n",
              "      <th>0</th>\n",
              "      <td>-2.264703</td>\n",
              "      <td>-0.480027</td>\n",
              "    </tr>\n",
              "    <tr>\n",
              "      <th>1</th>\n",
              "      <td>-2.080961</td>\n",
              "      <td>0.674134</td>\n",
              "    </tr>\n",
              "    <tr>\n",
              "      <th>2</th>\n",
              "      <td>-2.364229</td>\n",
              "      <td>0.341908</td>\n",
              "    </tr>\n",
              "    <tr>\n",
              "      <th>3</th>\n",
              "      <td>-2.299384</td>\n",
              "      <td>0.597395</td>\n",
              "    </tr>\n",
              "    <tr>\n",
              "      <th>4</th>\n",
              "      <td>-2.389842</td>\n",
              "      <td>-0.646835</td>\n",
              "    </tr>\n",
              "    <tr>\n",
              "      <th>...</th>\n",
              "      <td>...</td>\n",
              "      <td>...</td>\n",
              "    </tr>\n",
              "    <tr>\n",
              "      <th>145</th>\n",
              "      <td>1.870503</td>\n",
              "      <td>-0.386966</td>\n",
              "    </tr>\n",
              "    <tr>\n",
              "      <th>146</th>\n",
              "      <td>1.564580</td>\n",
              "      <td>0.896687</td>\n",
              "    </tr>\n",
              "    <tr>\n",
              "      <th>147</th>\n",
              "      <td>1.521170</td>\n",
              "      <td>-0.269069</td>\n",
              "    </tr>\n",
              "    <tr>\n",
              "      <th>148</th>\n",
              "      <td>1.372788</td>\n",
              "      <td>-1.011254</td>\n",
              "    </tr>\n",
              "    <tr>\n",
              "      <th>149</th>\n",
              "      <td>0.960656</td>\n",
              "      <td>0.024332</td>\n",
              "    </tr>\n",
              "  </tbody>\n",
              "</table>\n",
              "<p>150 rows × 2 columns</p>\n",
              "</div>\n",
              "      <button class=\"colab-df-convert\" onclick=\"convertToInteractive('df-6a19f7fc-411c-49d4-b993-5faf42d5dd5a')\"\n",
              "              title=\"Convert this dataframe to an interactive table.\"\n",
              "              style=\"display:none;\">\n",
              "        \n",
              "  <svg xmlns=\"http://www.w3.org/2000/svg\" height=\"24px\"viewBox=\"0 0 24 24\"\n",
              "       width=\"24px\">\n",
              "    <path d=\"M0 0h24v24H0V0z\" fill=\"none\"/>\n",
              "    <path d=\"M18.56 5.44l.94 2.06.94-2.06 2.06-.94-2.06-.94-.94-2.06-.94 2.06-2.06.94zm-11 1L8.5 8.5l.94-2.06 2.06-.94-2.06-.94L8.5 2.5l-.94 2.06-2.06.94zm10 10l.94 2.06.94-2.06 2.06-.94-2.06-.94-.94-2.06-.94 2.06-2.06.94z\"/><path d=\"M17.41 7.96l-1.37-1.37c-.4-.4-.92-.59-1.43-.59-.52 0-1.04.2-1.43.59L10.3 9.45l-7.72 7.72c-.78.78-.78 2.05 0 2.83L4 21.41c.39.39.9.59 1.41.59.51 0 1.02-.2 1.41-.59l7.78-7.78 2.81-2.81c.8-.78.8-2.07 0-2.86zM5.41 20L4 18.59l7.72-7.72 1.47 1.35L5.41 20z\"/>\n",
              "  </svg>\n",
              "      </button>\n",
              "      \n",
              "  <style>\n",
              "    .colab-df-container {\n",
              "      display:flex;\n",
              "      flex-wrap:wrap;\n",
              "      gap: 12px;\n",
              "    }\n",
              "\n",
              "    .colab-df-convert {\n",
              "      background-color: #E8F0FE;\n",
              "      border: none;\n",
              "      border-radius: 50%;\n",
              "      cursor: pointer;\n",
              "      display: none;\n",
              "      fill: #1967D2;\n",
              "      height: 32px;\n",
              "      padding: 0 0 0 0;\n",
              "      width: 32px;\n",
              "    }\n",
              "\n",
              "    .colab-df-convert:hover {\n",
              "      background-color: #E2EBFA;\n",
              "      box-shadow: 0px 1px 2px rgba(60, 64, 67, 0.3), 0px 1px 3px 1px rgba(60, 64, 67, 0.15);\n",
              "      fill: #174EA6;\n",
              "    }\n",
              "\n",
              "    [theme=dark] .colab-df-convert {\n",
              "      background-color: #3B4455;\n",
              "      fill: #D2E3FC;\n",
              "    }\n",
              "\n",
              "    [theme=dark] .colab-df-convert:hover {\n",
              "      background-color: #434B5C;\n",
              "      box-shadow: 0px 1px 3px 1px rgba(0, 0, 0, 0.15);\n",
              "      filter: drop-shadow(0px 1px 2px rgba(0, 0, 0, 0.3));\n",
              "      fill: #FFFFFF;\n",
              "    }\n",
              "  </style>\n",
              "\n",
              "      <script>\n",
              "        const buttonEl =\n",
              "          document.querySelector('#df-6a19f7fc-411c-49d4-b993-5faf42d5dd5a button.colab-df-convert');\n",
              "        buttonEl.style.display =\n",
              "          google.colab.kernel.accessAllowed ? 'block' : 'none';\n",
              "\n",
              "        async function convertToInteractive(key) {\n",
              "          const element = document.querySelector('#df-6a19f7fc-411c-49d4-b993-5faf42d5dd5a');\n",
              "          const dataTable =\n",
              "            await google.colab.kernel.invokeFunction('convertToInteractive',\n",
              "                                                     [key], {});\n",
              "          if (!dataTable) return;\n",
              "\n",
              "          const docLinkHtml = 'Like what you see? Visit the ' +\n",
              "            '<a target=\"_blank\" href=https://colab.research.google.com/notebooks/data_table.ipynb>data table notebook</a>'\n",
              "            + ' to learn more about interactive tables.';\n",
              "          element.innerHTML = '';\n",
              "          dataTable['output_type'] = 'display_data';\n",
              "          await google.colab.output.renderOutput(dataTable, element);\n",
              "          const docLink = document.createElement('div');\n",
              "          docLink.innerHTML = docLinkHtml;\n",
              "          element.appendChild(docLink);\n",
              "        }\n",
              "      </script>\n",
              "    </div>\n",
              "  </div>\n",
              "  "
            ],
            "text/plain": [
              "     Componente 1  Componente 2\n",
              "0       -2.264703     -0.480027\n",
              "1       -2.080961      0.674134\n",
              "2       -2.364229      0.341908\n",
              "3       -2.299384      0.597395\n",
              "4       -2.389842     -0.646835\n",
              "..            ...           ...\n",
              "145      1.870503     -0.386966\n",
              "146      1.564580      0.896687\n",
              "147      1.521170     -0.269069\n",
              "148      1.372788     -1.011254\n",
              "149      0.960656      0.024332\n",
              "\n",
              "[150 rows x 2 columns]"
            ]
          },
          "execution_count": 57,
          "metadata": {},
          "output_type": "execute_result"
        }
      ],
      "source": [
        "DF_PCA=pca.transform(X)\n",
        "DF_PCA.columns=['Componente 1','Componente 2']\n",
        "DF_PCA"
      ]
    },
    {
      "cell_type": "markdown",
      "metadata": {
        "id": "uJIsR3JosIKn"
      },
      "source": [
        "Cada columna representa un componente principal, mientras que cada fila representa una fila en el conjunto de datos original. Puede mostrar estas proyecciones con el comando plot_row_coordinates:"
      ]
    },
    {
      "cell_type": "code",
      "execution_count": 58,
      "metadata": {
        "colab": {
          "base_uri": "https://localhost:8080/"
        },
        "id": "ppXV7FV8sIKn",
        "outputId": "67946e3a-ecd1-40ba-a453-cd0cd58328ad"
      },
      "outputs": [
        {
          "data": {
            "text/plain": [
              "0         Setosa\n",
              "1         Setosa\n",
              "2         Setosa\n",
              "3         Setosa\n",
              "4         Setosa\n",
              "         ...    \n",
              "145    Virginica\n",
              "146    Virginica\n",
              "147    Virginica\n",
              "148    Virginica\n",
              "149    Virginica\n",
              "Length: 150, dtype: object"
            ]
          },
          "execution_count": 58,
          "metadata": {},
          "output_type": "execute_result"
        }
      ],
      "source": [
        "y"
      ]
    },
    {
      "cell_type": "code",
      "execution_count": 59,
      "metadata": {
        "colab": {
          "base_uri": "https://localhost:8080/",
          "height": 467
        },
        "id": "u8je5GRgsIKn",
        "outputId": "1b75336e-4aa3-43de-f2b2-c08be6252525"
      },
      "outputs": [
        {
          "data": {
            "text/plain": [
              "<Axes: xlabel='Componente 1', ylabel='Componente 2'>"
            ]
          },
          "execution_count": 59,
          "metadata": {},
          "output_type": "execute_result"
        },
        {
          "data": {
            "image/png": "[encoded data removed]",
            "text/plain": [
              "<Figure size 640x480 with 1 Axes>"
            ]
          },
          "metadata": {},
          "output_type": "display_data"
        }
      ],
      "source": [
        "sns.scatterplot(x='Componente 1', y='Componente 2',hue=y,data=DF_PCA)"
      ]
    },
    {
      "cell_type": "markdown",
      "metadata": {
        "id": "s4mMi4jrsIKn"
      },
      "source": [
        "Cada componente principal explica parte del subyacente de la distribución. Puede ver cuánto utilizando el acceso a la explained_inertia_ property:"
      ]
    },
    {
      "cell_type": "code",
      "execution_count": 60,
      "metadata": {
        "colab": {
          "base_uri": "https://localhost:8080/"
        },
        "id": "Bwl0OOT6sIKn",
        "outputId": "74b681a1-d477-4a33-8e37-b98edf979ad1"
      },
      "outputs": [
        {
          "data": {
            "text/plain": [
              "array([72.96244541, 95.8132072 ])"
            ]
          },
          "execution_count": 60,
          "metadata": {},
          "output_type": "execute_result"
        }
      ],
      "source": [
        "pca.cumulative_percentage_of_variance_"
      ]
    },
    {
      "cell_type": "markdown",
      "metadata": {
        "id": "OFf5GUfnsIKn"
      },
      "source": [
        "La inercia explicada representa el porcentaje de la inercia que aporta cada componente principal. Suma hasta 1 si la propiedad n_components es igual al número de columnas del conjunto de datos original. La inercia explicada se obtiene dividiendo los autovalores obtenidos con la SVD por la inercia total, ambos también accesibles."
      ]
    },
    {
      "cell_type": "code",
      "execution_count": 61,
      "metadata": {
        "colab": {
          "base_uri": "https://localhost:8080/"
        },
        "id": "mq3GTUWKsIKn",
        "outputId": "3e47fe27-2ec1-4b89-9eb8-0a0bc44f9df8"
      },
      "outputs": [
        {
          "data": {
            "text/plain": [
              "array([2.91849782, 0.91403047])"
            ]
          },
          "execution_count": 61,
          "metadata": {},
          "output_type": "execute_result"
        }
      ],
      "source": [
        "pca.eigenvalues_"
      ]
    },
    {
      "cell_type": "code",
      "execution_count": 62,
      "metadata": {
        "colab": {
          "base_uri": "https://localhost:8080/"
        },
        "id": "VaQ7dI7hsIKn",
        "outputId": "0e91928b-3fc8-49a5-f460-b59c037208a6"
      },
      "outputs": [
        {
          "data": {
            "text/plain": [
              "4.0"
            ]
          },
          "execution_count": 62,
          "metadata": {},
          "output_type": "execute_result"
        }
      ],
      "source": [
        "pca.total_inertia_"
      ]
    },
    {
      "cell_type": "markdown",
      "metadata": {
        "id": "GpuoUpGssIKo"
      },
      "source": [
        "También puede obtener las correlaciones entre las variables originales y los componentes principales."
      ]
    },
    {
      "cell_type": "code",
      "execution_count": 63,
      "metadata": {
        "colab": {
          "base_uri": "https://localhost:8080/",
          "height": 206
        },
        "id": "zvkNQmn5sIKo",
        "outputId": "e20b6a38-da36-4a81-82fc-7b0bcc77da47",
        "scrolled": true
      },
      "outputs": [
        {
          "data": {
            "text/html": [
              "\n",
              "  <div id=\"df-048e767b-11a7-4b1b-8c17-2cb45894e312\">\n",
              "    <div class=\"colab-df-container\">\n",
              "      <div>\n",
              "<style scoped>\n",
              "    .dataframe tbody tr th:only-of-type {\n",
              "        vertical-align: middle;\n",
              "    }\n",
              "\n",
              "    .dataframe tbody tr th {\n",
              "        vertical-align: top;\n",
              "    }\n",
              "\n",
              "    .dataframe thead th {\n",
              "        text-align: right;\n",
              "    }\n",
              "</style>\n",
              "<table border=\"1\" class=\"dataframe\">\n",
              "  <thead>\n",
              "    <tr style=\"text-align: right;\">\n",
              "      <th>component</th>\n",
              "      <th>0</th>\n",
              "      <th>1</th>\n",
              "    </tr>\n",
              "    <tr>\n",
              "      <th>variable</th>\n",
              "      <th></th>\n",
              "      <th></th>\n",
              "    </tr>\n",
              "  </thead>\n",
              "  <tbody>\n",
              "    <tr>\n",
              "      <th>Sepal length</th>\n",
              "      <td>0.890169</td>\n",
              "      <td>-0.360830</td>\n",
              "    </tr>\n",
              "    <tr>\n",
              "      <th>Sepal width</th>\n",
              "      <td>-0.460143</td>\n",
              "      <td>-0.882716</td>\n",
              "    </tr>\n",
              "    <tr>\n",
              "      <th>Petal length</th>\n",
              "      <td>0.991555</td>\n",
              "      <td>-0.023415</td>\n",
              "    </tr>\n",
              "    <tr>\n",
              "      <th>Petal width</th>\n",
              "      <td>0.964979</td>\n",
              "      <td>-0.064000</td>\n",
              "    </tr>\n",
              "  </tbody>\n",
              "</table>\n",
              "</div>\n",
              "      <button class=\"colab-df-convert\" onclick=\"convertToInteractive('df-048e767b-11a7-4b1b-8c17-2cb45894e312')\"\n",
              "              title=\"Convert this dataframe to an interactive table.\"\n",
              "              style=\"display:none;\">\n",
              "        \n",
              "  <svg xmlns=\"http://www.w3.org/2000/svg\" height=\"24px\"viewBox=\"0 0 24 24\"\n",
              "       width=\"24px\">\n",
              "    <path d=\"M0 0h24v24H0V0z\" fill=\"none\"/>\n",
              "    <path d=\"M18.56 5.44l.94 2.06.94-2.06 2.06-.94-2.06-.94-.94-2.06-.94 2.06-2.06.94zm-11 1L8.5 8.5l.94-2.06 2.06-.94-2.06-.94L8.5 2.5l-.94 2.06-2.06.94zm10 10l.94 2.06.94-2.06 2.06-.94-2.06-.94-.94-2.06-.94 2.06-2.06.94z\"/><path d=\"M17.41 7.96l-1.37-1.37c-.4-.4-.92-.59-1.43-.59-.52 0-1.04.2-1.43.59L10.3 9.45l-7.72 7.72c-.78.78-.78 2.05 0 2.83L4 21.41c.39.39.9.59 1.41.59.51 0 1.02-.2 1.41-.59l7.78-7.78 2.81-2.81c.8-.78.8-2.07 0-2.86zM5.41 20L4 18.59l7.72-7.72 1.47 1.35L5.41 20z\"/>\n",
              "  </svg>\n",
              "      </button>\n",
              "      \n",
              "  <style>\n",
              "    .colab-df-container {\n",
              "      display:flex;\n",
              "      flex-wrap:wrap;\n",
              "      gap: 12px;\n",
              "    }\n",
              "\n",
              "    .colab-df-convert {\n",
              "      background-color: #E8F0FE;\n",
              "      border: none;\n",
              "      border-radius: 50%;\n",
              "      cursor: pointer;\n",
              "      display: none;\n",
              "      fill: #1967D2;\n",
              "      height: 32px;\n",
              "      padding: 0 0 0 0;\n",
              "      width: 32px;\n",
              "    }\n",
              "\n",
              "    .colab-df-convert:hover {\n",
              "      background-color: #E2EBFA;\n",
              "      box-shadow: 0px 1px 2px rgba(60, 64, 67, 0.3), 0px 1px 3px 1px rgba(60, 64, 67, 0.15);\n",
              "      fill: #174EA6;\n",
              "    }\n",
              "\n",
              "    [theme=dark] .colab-df-convert {\n",
              "      background-color: #3B4455;\n",
              "      fill: #D2E3FC;\n",
              "    }\n",
              "\n",
              "    [theme=dark] .colab-df-convert:hover {\n",
              "      background-color: #434B5C;\n",
              "      box-shadow: 0px 1px 3px 1px rgba(0, 0, 0, 0.15);\n",
              "      filter: drop-shadow(0px 1px 2px rgba(0, 0, 0, 0.3));\n",
              "      fill: #FFFFFF;\n",
              "    }\n",
              "  </style>\n",
              "\n",
              "      <script>\n",
              "        const buttonEl =\n",
              "          document.querySelector('#df-048e767b-11a7-4b1b-8c17-2cb45894e312 button.colab-df-convert');\n",
              "        buttonEl.style.display =\n",
              "          google.colab.kernel.accessAllowed ? 'block' : 'none';\n",
              "\n",
              "        async function convertToInteractive(key) {\n",
              "          const element = document.querySelector('#df-048e767b-11a7-4b1b-8c17-2cb45894e312');\n",
              "          const dataTable =\n",
              "            await google.colab.kernel.invokeFunction('convertToInteractive',\n",
              "                                                     [key], {});\n",
              "          if (!dataTable) return;\n",
              "\n",
              "          const docLinkHtml = 'Like what you see? Visit the ' +\n",
              "            '<a target=\"_blank\" href=https://colab.research.google.com/notebooks/data_table.ipynb>data table notebook</a>'\n",
              "            + ' to learn more about interactive tables.';\n",
              "          element.innerHTML = '';\n",
              "          dataTable['output_type'] = 'display_data';\n",
              "          await google.colab.output.renderOutput(dataTable, element);\n",
              "          const docLink = document.createElement('div');\n",
              "          docLink.innerHTML = docLinkHtml;\n",
              "          element.appendChild(docLink);\n",
              "        }\n",
              "      </script>\n",
              "    </div>\n",
              "  </div>\n",
              "  "
            ],
            "text/plain": [
              "component            0         1\n",
              "variable                        \n",
              "Sepal length  0.890169 -0.360830\n",
              "Sepal width  -0.460143 -0.882716\n",
              "Petal length  0.991555 -0.023415\n",
              "Petal width   0.964979 -0.064000"
            ]
          },
          "execution_count": 63,
          "metadata": {},
          "output_type": "execute_result"
        }
      ],
      "source": [
        "pca.column_correlations"
      ]
    },
    {
      "cell_type": "markdown",
      "metadata": {
        "id": "rzLIOdrSsIKo"
      },
      "source": [
        "También es posible saber cuánto contribuye cada observación a cada componente principal. Esto se puede hacer con el comando row_contributions."
      ]
    },
    {
      "cell_type": "markdown",
      "metadata": {
        "id": "D_zuMXNGsIKo"
      },
      "source": [
        "También puede transformar las proyecciones de filas a su espacio original utilizando la función inverse_transform."
      ]
    },
    {
      "cell_type": "code",
      "execution_count": 64,
      "metadata": {
        "colab": {
          "base_uri": "https://localhost:8080/",
          "height": 424
        },
        "id": "xmuFiSnlsIKo",
        "outputId": "28da8335-0438-4698-f62a-9b86f2f337af"
      },
      "outputs": [
        {
          "data": {
            "text/html": [
              "\n",
              "  <div id=\"df-8aee5611-caeb-4c4a-843f-f804bc1bb750\">\n",
              "    <div class=\"colab-df-container\">\n",
              "      <div>\n",
              "<style scoped>\n",
              "    .dataframe tbody tr th:only-of-type {\n",
              "        vertical-align: middle;\n",
              "    }\n",
              "\n",
              "    .dataframe tbody tr th {\n",
              "        vertical-align: top;\n",
              "    }\n",
              "\n",
              "    .dataframe thead th {\n",
              "        text-align: right;\n",
              "    }\n",
              "</style>\n",
              "<table border=\"1\" class=\"dataframe\">\n",
              "  <thead>\n",
              "    <tr style=\"text-align: right;\">\n",
              "      <th></th>\n",
              "      <th>0</th>\n",
              "      <th>1</th>\n",
              "      <th>2</th>\n",
              "      <th>3</th>\n",
              "    </tr>\n",
              "  </thead>\n",
              "  <tbody>\n",
              "    <tr>\n",
              "      <th>0</th>\n",
              "      <td>5.018949</td>\n",
              "      <td>3.514854</td>\n",
              "      <td>1.466013</td>\n",
              "      <td>0.251922</td>\n",
              "    </tr>\n",
              "    <tr>\n",
              "      <th>1</th>\n",
              "      <td>4.738463</td>\n",
              "      <td>3.030433</td>\n",
              "      <td>1.603913</td>\n",
              "      <td>0.272074</td>\n",
              "    </tr>\n",
              "    <tr>\n",
              "      <th>2</th>\n",
              "      <td>4.720130</td>\n",
              "      <td>3.196830</td>\n",
              "      <td>1.328961</td>\n",
              "      <td>0.167414</td>\n",
              "    </tr>\n",
              "    <tr>\n",
              "      <th>3</th>\n",
              "      <td>4.668436</td>\n",
              "      <td>3.086770</td>\n",
              "      <td>1.384170</td>\n",
              "      <td>0.182247</td>\n",
              "    </tr>\n",
              "    <tr>\n",
              "      <th>4</th>\n",
              "      <td>5.017093</td>\n",
              "      <td>3.596402</td>\n",
              "      <td>1.345411</td>\n",
              "      <td>0.206706</td>\n",
              "    </tr>\n",
              "    <tr>\n",
              "      <th>...</th>\n",
              "      <td>...</td>\n",
              "      <td>...</td>\n",
              "      <td>...</td>\n",
              "      <td>...</td>\n",
              "    </tr>\n",
              "    <tr>\n",
              "      <th>145</th>\n",
              "      <td>6.768251</td>\n",
              "      <td>2.993679</td>\n",
              "      <td>5.684797</td>\n",
              "      <td>2.021678</td>\n",
              "    </tr>\n",
              "    <tr>\n",
              "      <th>146</th>\n",
              "      <td>6.236857</td>\n",
              "      <td>2.514614</td>\n",
              "      <td>5.317081</td>\n",
              "      <td>1.825121</td>\n",
              "    </tr>\n",
              "    <tr>\n",
              "      <th>147</th>\n",
              "      <td>6.581303</td>\n",
              "      <td>2.987266</td>\n",
              "      <td>5.322985</td>\n",
              "      <td>1.865778</td>\n",
              "    </tr>\n",
              "    <tr>\n",
              "      <th>148</th>\n",
              "      <td>6.748671</td>\n",
              "      <td>3.302311</td>\n",
              "      <td>5.203441</td>\n",
              "      <td>1.839848</td>\n",
              "    </tr>\n",
              "    <tr>\n",
              "      <th>149</th>\n",
              "      <td>6.248871</td>\n",
              "      <td>2.935170</td>\n",
              "      <td>4.737955</td>\n",
              "      <td>1.610330</td>\n",
              "    </tr>\n",
              "  </tbody>\n",
              "</table>\n",
              "<p>150 rows × 4 columns</p>\n",
              "</div>\n",
              "      <button class=\"colab-df-convert\" onclick=\"convertToInteractive('df-8aee5611-caeb-4c4a-843f-f804bc1bb750')\"\n",
              "              title=\"Convert this dataframe to an interactive table.\"\n",
              "              style=\"display:none;\">\n",
              "        \n",
              "  <svg xmlns=\"http://www.w3.org/2000/svg\" height=\"24px\"viewBox=\"0 0 24 24\"\n",
              "       width=\"24px\">\n",
              "    <path d=\"M0 0h24v24H0V0z\" fill=\"none\"/>\n",
              "    <path d=\"M18.56 5.44l.94 2.06.94-2.06 2.06-.94-2.06-.94-.94-2.06-.94 2.06-2.06.94zm-11 1L8.5 8.5l.94-2.06 2.06-.94-2.06-.94L8.5 2.5l-.94 2.06-2.06.94zm10 10l.94 2.06.94-2.06 2.06-.94-2.06-.94-.94-2.06-.94 2.06-2.06.94z\"/><path d=\"M17.41 7.96l-1.37-1.37c-.4-.4-.92-.59-1.43-.59-.52 0-1.04.2-1.43.59L10.3 9.45l-7.72 7.72c-.78.78-.78 2.05 0 2.83L4 21.41c.39.39.9.59 1.41.59.51 0 1.02-.2 1.41-.59l7.78-7.78 2.81-2.81c.8-.78.8-2.07 0-2.86zM5.41 20L4 18.59l7.72-7.72 1.47 1.35L5.41 20z\"/>\n",
              "  </svg>\n",
              "      </button>\n",
              "      \n",
              "  <style>\n",
              "    .colab-df-container {\n",
              "      display:flex;\n",
              "      flex-wrap:wrap;\n",
              "      gap: 12px;\n",
              "    }\n",
              "\n",
              "    .colab-df-convert {\n",
              "      background-color: #E8F0FE;\n",
              "      border: none;\n",
              "      border-radius: 50%;\n",
              "      cursor: pointer;\n",
              "      display: none;\n",
              "      fill: #1967D2;\n",
              "      height: 32px;\n",
              "      padding: 0 0 0 0;\n",
              "      width: 32px;\n",
              "    }\n",
              "\n",
              "    .colab-df-convert:hover {\n",
              "      background-color: #E2EBFA;\n",
              "      box-shadow: 0px 1px 2px rgba(60, 64, 67, 0.3), 0px 1px 3px 1px rgba(60, 64, 67, 0.15);\n",
              "      fill: #174EA6;\n",
              "    }\n",
              "\n",
              "    [theme=dark] .colab-df-convert {\n",
              "      background-color: #3B4455;\n",
              "      fill: #D2E3FC;\n",
              "    }\n",
              "\n",
              "    [theme=dark] .colab-df-convert:hover {\n",
              "      background-color: #434B5C;\n",
              "      box-shadow: 0px 1px 3px 1px rgba(0, 0, 0, 0.15);\n",
              "      filter: drop-shadow(0px 1px 2px rgba(0, 0, 0, 0.3));\n",
              "      fill: #FFFFFF;\n",
              "    }\n",
              "  </style>\n",
              "\n",
              "      <script>\n",
              "        const buttonEl =\n",
              "          document.querySelector('#df-8aee5611-caeb-4c4a-843f-f804bc1bb750 button.colab-df-convert');\n",
              "        buttonEl.style.display =\n",
              "          google.colab.kernel.accessAllowed ? 'block' : 'none';\n",
              "\n",
              "        async function convertToInteractive(key) {\n",
              "          const element = document.querySelector('#df-8aee5611-caeb-4c4a-843f-f804bc1bb750');\n",
              "          const dataTable =\n",
              "            await google.colab.kernel.invokeFunction('convertToInteractive',\n",
              "                                                     [key], {});\n",
              "          if (!dataTable) return;\n",
              "\n",
              "          const docLinkHtml = 'Like what you see? Visit the ' +\n",
              "            '<a target=\"_blank\" href=https://colab.research.google.com/notebooks/data_table.ipynb>data table notebook</a>'\n",
              "            + ' to learn more about interactive tables.';\n",
              "          element.innerHTML = '';\n",
              "          dataTable['output_type'] = 'display_data';\n",
              "          await google.colab.output.renderOutput(dataTable, element);\n",
              "          const docLink = document.createElement('div');\n",
              "          docLink.innerHTML = docLinkHtml;\n",
              "          element.appendChild(docLink);\n",
              "        }\n",
              "      </script>\n",
              "    </div>\n",
              "  </div>\n",
              "  "
            ],
            "text/plain": [
              "           0        1        2        3\n",
              "0   5.018949 3.514854 1.466013 0.251922\n",
              "1   4.738463 3.030433 1.603913 0.272074\n",
              "2   4.720130 3.196830 1.328961 0.167414\n",
              "3   4.668436 3.086770 1.384170 0.182247\n",
              "4   5.017093 3.596402 1.345411 0.206706\n",
              "..       ...      ...      ...      ...\n",
              "145 6.768251 2.993679 5.684797 2.021678\n",
              "146 6.236857 2.514614 5.317081 1.825121\n",
              "147 6.581303 2.987266 5.322985 1.865778\n",
              "148 6.748671 3.302311 5.203441 1.839848\n",
              "149 6.248871 2.935170 4.737955 1.610330\n",
              "\n",
              "[150 rows x 4 columns]"
            ]
          },
          "execution_count": 64,
          "metadata": {},
          "output_type": "execute_result"
        }
      ],
      "source": [
        "pca.inverse_transform(pca.transform(X))"
      ]
    },
    {
      "cell_type": "markdown",
      "metadata": {
        "id": "bUg-MrRWsIKo"
      },
      "source": [
        "## Análisis de correspondencias\n",
        "\n",
        "El análisis de correspondencia se utiliza cuando se desea analizar una tabla de contingencia. En otras palabras, buscamos analizar las dependencias entre dos variables categóricas."
      ]
    },
    {
      "cell_type": "code",
      "execution_count": 65,
      "metadata": {
        "colab": {
          "base_uri": "https://localhost:8080/",
          "height": 175
        },
        "id": "Z3XSFPDNsIKo",
        "outputId": "77adb05d-26b1-4f87-9891-1c468ed17e42"
      },
      "outputs": [
        {
          "data": {
            "text/html": [
              "\n",
              "  <div id=\"df-94de2f94-db10-4786-b7f3-8ddf450b2154\">\n",
              "    <div class=\"colab-df-container\">\n",
              "      <div>\n",
              "<style scoped>\n",
              "    .dataframe tbody tr th:only-of-type {\n",
              "        vertical-align: middle;\n",
              "    }\n",
              "\n",
              "    .dataframe tbody tr th {\n",
              "        vertical-align: top;\n",
              "    }\n",
              "\n",
              "    .dataframe thead th {\n",
              "        text-align: right;\n",
              "    }\n",
              "</style>\n",
              "<table border=\"1\" class=\"dataframe\">\n",
              "  <thead>\n",
              "    <tr style=\"text-align: right;\">\n",
              "      <th></th>\n",
              "      <th>Fair</th>\n",
              "      <th>Red</th>\n",
              "      <th>Medium</th>\n",
              "      <th>Dark</th>\n",
              "      <th>Black</th>\n",
              "    </tr>\n",
              "  </thead>\n",
              "  <tbody>\n",
              "    <tr>\n",
              "      <th>Blue</th>\n",
              "      <td>426</td>\n",
              "      <td>345</td>\n",
              "      <td>0</td>\n",
              "      <td>11</td>\n",
              "      <td>3</td>\n",
              "    </tr>\n",
              "    <tr>\n",
              "      <th>Light</th>\n",
              "      <td>54</td>\n",
              "      <td>110</td>\n",
              "      <td>45</td>\n",
              "      <td>0</td>\n",
              "      <td>4</td>\n",
              "    </tr>\n",
              "    <tr>\n",
              "      <th>Medium</th>\n",
              "      <td>31</td>\n",
              "      <td>84</td>\n",
              "      <td>409</td>\n",
              "      <td>41</td>\n",
              "      <td>26</td>\n",
              "    </tr>\n",
              "    <tr>\n",
              "      <th>Dark</th>\n",
              "      <td>12</td>\n",
              "      <td>28</td>\n",
              "      <td>40</td>\n",
              "      <td>381</td>\n",
              "      <td>5</td>\n",
              "    </tr>\n",
              "  </tbody>\n",
              "</table>\n",
              "</div>\n",
              "      <button class=\"colab-df-convert\" onclick=\"convertToInteractive('df-94de2f94-db10-4786-b7f3-8ddf450b2154')\"\n",
              "              title=\"Convert this dataframe to an interactive table.\"\n",
              "              style=\"display:none;\">\n",
              "        \n",
              "  <svg xmlns=\"http://www.w3.org/2000/svg\" height=\"24px\"viewBox=\"0 0 24 24\"\n",
              "       width=\"24px\">\n",
              "    <path d=\"M0 0h24v24H0V0z\" fill=\"none\"/>\n",
              "    <path d=\"M18.56 5.44l.94 2.06.94-2.06 2.06-.94-2.06-.94-.94-2.06-.94 2.06-2.06.94zm-11 1L8.5 8.5l.94-2.06 2.06-.94-2.06-.94L8.5 2.5l-.94 2.06-2.06.94zm10 10l.94 2.06.94-2.06 2.06-.94-2.06-.94-.94-2.06-.94 2.06-2.06.94z\"/><path d=\"M17.41 7.96l-1.37-1.37c-.4-.4-.92-.59-1.43-.59-.52 0-1.04.2-1.43.59L10.3 9.45l-7.72 7.72c-.78.78-.78 2.05 0 2.83L4 21.41c.39.39.9.59 1.41.59.51 0 1.02-.2 1.41-.59l7.78-7.78 2.81-2.81c.8-.78.8-2.07 0-2.86zM5.41 20L4 18.59l7.72-7.72 1.47 1.35L5.41 20z\"/>\n",
              "  </svg>\n",
              "      </button>\n",
              "      \n",
              "  <style>\n",
              "    .colab-df-container {\n",
              "      display:flex;\n",
              "      flex-wrap:wrap;\n",
              "      gap: 12px;\n",
              "    }\n",
              "\n",
              "    .colab-df-convert {\n",
              "      background-color: #E8F0FE;\n",
              "      border: none;\n",
              "      border-radius: 50%;\n",
              "      cursor: pointer;\n",
              "      display: none;\n",
              "      fill: #1967D2;\n",
              "      height: 32px;\n",
              "      padding: 0 0 0 0;\n",
              "      width: 32px;\n",
              "    }\n",
              "\n",
              "    .colab-df-convert:hover {\n",
              "      background-color: #E2EBFA;\n",
              "      box-shadow: 0px 1px 2px rgba(60, 64, 67, 0.3), 0px 1px 3px 1px rgba(60, 64, 67, 0.15);\n",
              "      fill: #174EA6;\n",
              "    }\n",
              "\n",
              "    [theme=dark] .colab-df-convert {\n",
              "      background-color: #3B4455;\n",
              "      fill: #D2E3FC;\n",
              "    }\n",
              "\n",
              "    [theme=dark] .colab-df-convert:hover {\n",
              "      background-color: #434B5C;\n",
              "      box-shadow: 0px 1px 3px 1px rgba(0, 0, 0, 0.15);\n",
              "      filter: drop-shadow(0px 1px 2px rgba(0, 0, 0, 0.3));\n",
              "      fill: #FFFFFF;\n",
              "    }\n",
              "  </style>\n",
              "\n",
              "      <script>\n",
              "        const buttonEl =\n",
              "          document.querySelector('#df-94de2f94-db10-4786-b7f3-8ddf450b2154 button.colab-df-convert');\n",
              "        buttonEl.style.display =\n",
              "          google.colab.kernel.accessAllowed ? 'block' : 'none';\n",
              "\n",
              "        async function convertToInteractive(key) {\n",
              "          const element = document.querySelector('#df-94de2f94-db10-4786-b7f3-8ddf450b2154');\n",
              "          const dataTable =\n",
              "            await google.colab.kernel.invokeFunction('convertToInteractive',\n",
              "                                                     [key], {});\n",
              "          if (!dataTable) return;\n",
              "\n",
              "          const docLinkHtml = 'Like what you see? Visit the ' +\n",
              "            '<a target=\"_blank\" href=https://colab.research.google.com/notebooks/data_table.ipynb>data table notebook</a>'\n",
              "            + ' to learn more about interactive tables.';\n",
              "          element.innerHTML = '';\n",
              "          dataTable['output_type'] = 'display_data';\n",
              "          await google.colab.output.renderOutput(dataTable, element);\n",
              "          const docLink = document.createElement('div');\n",
              "          docLink.innerHTML = docLinkHtml;\n",
              "          element.appendChild(docLink);\n",
              "        }\n",
              "      </script>\n",
              "    </div>\n",
              "  </div>\n",
              "  "
            ],
            "text/plain": [
              "        Fair  Red  Medium  Dark  Black\n",
              "Blue     426  345       0    11      3\n",
              "Light     54  110      45     0      4\n",
              "Medium    31   84     409    41     26\n",
              "Dark      12   28      40   381      5"
            ]
          },
          "execution_count": 65,
          "metadata": {},
          "output_type": "execute_result"
        }
      ],
      "source": [
        "import pandas as pd\n",
        "\n",
        "pd.set_option('display.float_format', lambda x: '{:.6f}'.format(x))\n",
        "X = pd.DataFrame(\n",
        "   data=[\n",
        "       [426, 345, 0, 11, 3],\n",
        "       [54, 110, 45, 0, 4],\n",
        "       [31, 84, 409, 41, 26],\n",
        "       [12, 28, 40, 381, 5]],\n",
        "   columns=pd.Series(['Fair', 'Red', 'Medium', 'Dark', 'Black']),\n",
        "   index=pd.Series(['Blue', 'Light', 'Medium', 'Dark']))\n",
        "X\n"
      ]
    },
    {
      "cell_type": "code",
      "execution_count": 66,
      "metadata": {
        "colab": {
          "base_uri": "https://localhost:8080/",
          "height": 143
        },
        "id": "TocwDP0csIKo",
        "outputId": "7fd8c039-df68-4301-a65c-02d5e1c1d8b5"
      },
      "outputs": [
        {
          "data": {
            "text/html": [
              "\n",
              "  <div id=\"df-fcf1d04c-b0d2-43c0-a209-a1f4bc4f3d5a\">\n",
              "    <div class=\"colab-df-container\">\n",
              "      <div>\n",
              "<style scoped>\n",
              "    .dataframe tbody tr th:only-of-type {\n",
              "        vertical-align: middle;\n",
              "    }\n",
              "\n",
              "    .dataframe tbody tr th {\n",
              "        vertical-align: top;\n",
              "    }\n",
              "\n",
              "    .dataframe thead th {\n",
              "        text-align: right;\n",
              "    }\n",
              "</style>\n",
              "<table border=\"1\" class=\"dataframe\">\n",
              "  <thead>\n",
              "    <tr style=\"text-align: right;\">\n",
              "      <th></th>\n",
              "      <th>Fair</th>\n",
              "      <th>Red</th>\n",
              "      <th>Dark</th>\n",
              "      <th>Black</th>\n",
              "    </tr>\n",
              "  </thead>\n",
              "  <tbody>\n",
              "    <tr>\n",
              "      <th>Blue</th>\n",
              "      <td>426</td>\n",
              "      <td>345</td>\n",
              "      <td>11</td>\n",
              "      <td>3</td>\n",
              "    </tr>\n",
              "    <tr>\n",
              "      <th>Light</th>\n",
              "      <td>54</td>\n",
              "      <td>110</td>\n",
              "      <td>0</td>\n",
              "      <td>4</td>\n",
              "    </tr>\n",
              "    <tr>\n",
              "      <th>Dark</th>\n",
              "      <td>12</td>\n",
              "      <td>28</td>\n",
              "      <td>381</td>\n",
              "      <td>5</td>\n",
              "    </tr>\n",
              "  </tbody>\n",
              "</table>\n",
              "</div>\n",
              "      <button class=\"colab-df-convert\" onclick=\"convertToInteractive('df-fcf1d04c-b0d2-43c0-a209-a1f4bc4f3d5a')\"\n",
              "              title=\"Convert this dataframe to an interactive table.\"\n",
              "              style=\"display:none;\">\n",
              "        \n",
              "  <svg xmlns=\"http://www.w3.org/2000/svg\" height=\"24px\"viewBox=\"0 0 24 24\"\n",
              "       width=\"24px\">\n",
              "    <path d=\"M0 0h24v24H0V0z\" fill=\"none\"/>\n",
              "    <path d=\"M18.56 5.44l.94 2.06.94-2.06 2.06-.94-2.06-.94-.94-2.06-.94 2.06-2.06.94zm-11 1L8.5 8.5l.94-2.06 2.06-.94-2.06-.94L8.5 2.5l-.94 2.06-2.06.94zm10 10l.94 2.06.94-2.06 2.06-.94-2.06-.94-.94-2.06-.94 2.06-2.06.94z\"/><path d=\"M17.41 7.96l-1.37-1.37c-.4-.4-.92-.59-1.43-.59-.52 0-1.04.2-1.43.59L10.3 9.45l-7.72 7.72c-.78.78-.78 2.05 0 2.83L4 21.41c.39.39.9.59 1.41.59.51 0 1.02-.2 1.41-.59l7.78-7.78 2.81-2.81c.8-.78.8-2.07 0-2.86zM5.41 20L4 18.59l7.72-7.72 1.47 1.35L5.41 20z\"/>\n",
              "  </svg>\n",
              "      </button>\n",
              "      \n",
              "  <style>\n",
              "    .colab-df-container {\n",
              "      display:flex;\n",
              "      flex-wrap:wrap;\n",
              "      gap: 12px;\n",
              "    }\n",
              "\n",
              "    .colab-df-convert {\n",
              "      background-color: #E8F0FE;\n",
              "      border: none;\n",
              "      border-radius: 50%;\n",
              "      cursor: pointer;\n",
              "      display: none;\n",
              "      fill: #1967D2;\n",
              "      height: 32px;\n",
              "      padding: 0 0 0 0;\n",
              "      width: 32px;\n",
              "    }\n",
              "\n",
              "    .colab-df-convert:hover {\n",
              "      background-color: #E2EBFA;\n",
              "      box-shadow: 0px 1px 2px rgba(60, 64, 67, 0.3), 0px 1px 3px 1px rgba(60, 64, 67, 0.15);\n",
              "      fill: #174EA6;\n",
              "    }\n",
              "\n",
              "    [theme=dark] .colab-df-convert {\n",
              "      background-color: #3B4455;\n",
              "      fill: #D2E3FC;\n",
              "    }\n",
              "\n",
              "    [theme=dark] .colab-df-convert:hover {\n",
              "      background-color: #434B5C;\n",
              "      box-shadow: 0px 1px 3px 1px rgba(0, 0, 0, 0.15);\n",
              "      filter: drop-shadow(0px 1px 2px rgba(0, 0, 0, 0.3));\n",
              "      fill: #FFFFFF;\n",
              "    }\n",
              "  </style>\n",
              "\n",
              "      <script>\n",
              "        const buttonEl =\n",
              "          document.querySelector('#df-fcf1d04c-b0d2-43c0-a209-a1f4bc4f3d5a button.colab-df-convert');\n",
              "        buttonEl.style.display =\n",
              "          google.colab.kernel.accessAllowed ? 'block' : 'none';\n",
              "\n",
              "        async function convertToInteractive(key) {\n",
              "          const element = document.querySelector('#df-fcf1d04c-b0d2-43c0-a209-a1f4bc4f3d5a');\n",
              "          const dataTable =\n",
              "            await google.colab.kernel.invokeFunction('convertToInteractive',\n",
              "                                                     [key], {});\n",
              "          if (!dataTable) return;\n",
              "\n",
              "          const docLinkHtml = 'Like what you see? Visit the ' +\n",
              "            '<a target=\"_blank\" href=https://colab.research.google.com/notebooks/data_table.ipynb>data table notebook</a>'\n",
              "            + ' to learn more about interactive tables.';\n",
              "          element.innerHTML = '';\n",
              "          dataTable['output_type'] = 'display_data';\n",
              "          await google.colab.output.renderOutput(dataTable, element);\n",
              "          const docLink = document.createElement('div');\n",
              "          docLink.innerHTML = docLinkHtml;\n",
              "          element.appendChild(docLink);\n",
              "        }\n",
              "      </script>\n",
              "    </div>\n",
              "  </div>\n",
              "  "
            ],
            "text/plain": [
              "       Fair  Red  Dark  Black\n",
              "Blue    426  345    11      3\n",
              "Light    54  110     0      4\n",
              "Dark     12   28   381      5"
            ]
          },
          "execution_count": 66,
          "metadata": {},
          "output_type": "execute_result"
        }
      ],
      "source": [
        "X1=X[[\"Fair\",\"Red\",\"Dark\",\"Black\"]]\n",
        "X1=X1.iloc[[0,1,3]]\n",
        "X1"
      ]
    },
    {
      "cell_type": "code",
      "execution_count": 67,
      "metadata": {
        "colab": {
          "base_uri": "https://localhost:8080/",
          "height": 430
        },
        "id": "N0AsDdmNsIKo",
        "outputId": "1ef3aa68-9891-460e-deef-72a748312b80"
      },
      "outputs": [
        {
          "data": {
            "image/png": "[encoded data removed]",
            "text/plain": [
              "<Figure size 640x480 with 2 Axes>"
            ]
          },
          "metadata": {},
          "output_type": "display_data"
        }
      ],
      "source": [
        "import matplotlib.pyplot as plt\n",
        "import seaborn as sns\n",
        "fig, ax = plt.subplots()\n",
        "s=sns.heatmap(X,cmap='coolwarm')\n",
        "ax.set_xlim(0,5)\n",
        "ax.set_ylim(0,4)\n",
        "plt.show()\n",
        "\n"
      ]
    },
    {
      "cell_type": "code",
      "execution_count": 72,
      "metadata": {
        "id": "BywfNYiasIKp"
      },
      "outputs": [],
      "source": [
        "import prince\n",
        "ca = prince.CA(\n",
        "    n_components=2,\n",
        "    n_iter=5,\n",
        "    copy=True,\n",
        "    check_input=True,\n",
        "    engine='sklearn',\n",
        "    random_state=42)"
      ]
    },
    {
      "cell_type": "code",
      "execution_count": 73,
      "metadata": {
        "colab": {
          "base_uri": "https://localhost:8080/",
          "height": 206
        },
        "id": "nduGTtUOsIKp",
        "outputId": "9ded0e4b-598b-4f84-d4e8-909a4e56a7f2"
      },
      "outputs": [
        {
          "data": {
            "text/html": [
              "\n",
              "  <div id=\"df-874581da-0eab-4def-a344-d7d4992508de\">\n",
              "    <div class=\"colab-df-container\">\n",
              "      <div>\n",
              "<style scoped>\n",
              "    .dataframe tbody tr th:only-of-type {\n",
              "        vertical-align: middle;\n",
              "    }\n",
              "\n",
              "    .dataframe tbody tr th {\n",
              "        vertical-align: top;\n",
              "    }\n",
              "\n",
              "    .dataframe thead th {\n",
              "        text-align: right;\n",
              "    }\n",
              "</style>\n",
              "<table border=\"1\" class=\"dataframe\">\n",
              "  <thead>\n",
              "    <tr style=\"text-align: right;\">\n",
              "      <th>Hair color</th>\n",
              "      <th>Fair</th>\n",
              "      <th>Red</th>\n",
              "      <th>Medium</th>\n",
              "      <th>Dark</th>\n",
              "      <th>Black</th>\n",
              "    </tr>\n",
              "    <tr>\n",
              "      <th>Eye color</th>\n",
              "      <th></th>\n",
              "      <th></th>\n",
              "      <th></th>\n",
              "      <th></th>\n",
              "      <th></th>\n",
              "    </tr>\n",
              "  </thead>\n",
              "  <tbody>\n",
              "    <tr>\n",
              "      <th>Blue</th>\n",
              "      <td>426</td>\n",
              "      <td>345</td>\n",
              "      <td>0</td>\n",
              "      <td>11</td>\n",
              "      <td>3</td>\n",
              "    </tr>\n",
              "    <tr>\n",
              "      <th>Light</th>\n",
              "      <td>54</td>\n",
              "      <td>110</td>\n",
              "      <td>45</td>\n",
              "      <td>0</td>\n",
              "      <td>4</td>\n",
              "    </tr>\n",
              "    <tr>\n",
              "      <th>Medium</th>\n",
              "      <td>31</td>\n",
              "      <td>84</td>\n",
              "      <td>409</td>\n",
              "      <td>41</td>\n",
              "      <td>26</td>\n",
              "    </tr>\n",
              "    <tr>\n",
              "      <th>Dark</th>\n",
              "      <td>12</td>\n",
              "      <td>28</td>\n",
              "      <td>40</td>\n",
              "      <td>381</td>\n",
              "      <td>5</td>\n",
              "    </tr>\n",
              "  </tbody>\n",
              "</table>\n",
              "</div>\n",
              "      <button class=\"colab-df-convert\" onclick=\"convertToInteractive('df-874581da-0eab-4def-a344-d7d4992508de')\"\n",
              "              title=\"Convert this dataframe to an interactive table.\"\n",
              "              style=\"display:none;\">\n",
              "        \n",
              "  <svg xmlns=\"http://www.w3.org/2000/svg\" height=\"24px\"viewBox=\"0 0 24 24\"\n",
              "       width=\"24px\">\n",
              "    <path d=\"M0 0h24v24H0V0z\" fill=\"none\"/>\n",
              "    <path d=\"M18.56 5.44l.94 2.06.94-2.06 2.06-.94-2.06-.94-.94-2.06-.94 2.06-2.06.94zm-11 1L8.5 8.5l.94-2.06 2.06-.94-2.06-.94L8.5 2.5l-.94 2.06-2.06.94zm10 10l.94 2.06.94-2.06 2.06-.94-2.06-.94-.94-2.06-.94 2.06-2.06.94z\"/><path d=\"M17.41 7.96l-1.37-1.37c-.4-.4-.92-.59-1.43-.59-.52 0-1.04.2-1.43.59L10.3 9.45l-7.72 7.72c-.78.78-.78 2.05 0 2.83L4 21.41c.39.39.9.59 1.41.59.51 0 1.02-.2 1.41-.59l7.78-7.78 2.81-2.81c.8-.78.8-2.07 0-2.86zM5.41 20L4 18.59l7.72-7.72 1.47 1.35L5.41 20z\"/>\n",
              "  </svg>\n",
              "      </button>\n",
              "      \n",
              "  <style>\n",
              "    .colab-df-container {\n",
              "      display:flex;\n",
              "      flex-wrap:wrap;\n",
              "      gap: 12px;\n",
              "    }\n",
              "\n",
              "    .colab-df-convert {\n",
              "      background-color: #E8F0FE;\n",
              "      border: none;\n",
              "      border-radius: 50%;\n",
              "      cursor: pointer;\n",
              "      display: none;\n",
              "      fill: #1967D2;\n",
              "      height: 32px;\n",
              "      padding: 0 0 0 0;\n",
              "      width: 32px;\n",
              "    }\n",
              "\n",
              "    .colab-df-convert:hover {\n",
              "      background-color: #E2EBFA;\n",
              "      box-shadow: 0px 1px 2px rgba(60, 64, 67, 0.3), 0px 1px 3px 1px rgba(60, 64, 67, 0.15);\n",
              "      fill: #174EA6;\n",
              "    }\n",
              "\n",
              "    [theme=dark] .colab-df-convert {\n",
              "      background-color: #3B4455;\n",
              "      fill: #D2E3FC;\n",
              "    }\n",
              "\n",
              "    [theme=dark] .colab-df-convert:hover {\n",
              "      background-color: #434B5C;\n",
              "      box-shadow: 0px 1px 3px 1px rgba(0, 0, 0, 0.15);\n",
              "      filter: drop-shadow(0px 1px 2px rgba(0, 0, 0, 0.3));\n",
              "      fill: #FFFFFF;\n",
              "    }\n",
              "  </style>\n",
              "\n",
              "      <script>\n",
              "        const buttonEl =\n",
              "          document.querySelector('#df-874581da-0eab-4def-a344-d7d4992508de button.colab-df-convert');\n",
              "        buttonEl.style.display =\n",
              "          google.colab.kernel.accessAllowed ? 'block' : 'none';\n",
              "\n",
              "        async function convertToInteractive(key) {\n",
              "          const element = document.querySelector('#df-874581da-0eab-4def-a344-d7d4992508de');\n",
              "          const dataTable =\n",
              "            await google.colab.kernel.invokeFunction('convertToInteractive',\n",
              "                                                     [key], {});\n",
              "          if (!dataTable) return;\n",
              "\n",
              "          const docLinkHtml = 'Like what you see? Visit the ' +\n",
              "            '<a target=\"_blank\" href=https://colab.research.google.com/notebooks/data_table.ipynb>data table notebook</a>'\n",
              "            + ' to learn more about interactive tables.';\n",
              "          element.innerHTML = '';\n",
              "          dataTable['output_type'] = 'display_data';\n",
              "          await google.colab.output.renderOutput(dataTable, element);\n",
              "          const docLink = document.createElement('div');\n",
              "          docLink.innerHTML = docLinkHtml;\n",
              "          element.appendChild(docLink);\n",
              "        }\n",
              "      </script>\n",
              "    </div>\n",
              "  </div>\n",
              "  "
            ],
            "text/plain": [
              "Hair color  Fair  Red  Medium  Dark  Black\n",
              "Eye color                                 \n",
              "Blue         426  345       0    11      3\n",
              "Light         54  110      45     0      4\n",
              "Medium        31   84     409    41     26\n",
              "Dark          12   28      40   381      5"
            ]
          },
          "execution_count": 73,
          "metadata": {},
          "output_type": "execute_result"
        }
      ],
      "source": [
        "X.columns.rename('Hair color', inplace=True)\n",
        "X.index.rename('Eye color', inplace=True)\n",
        "X"
      ]
    },
    {
      "cell_type": "code",
      "execution_count": 74,
      "metadata": {
        "id": "0qZY31xwsIKp"
      },
      "outputs": [],
      "source": [
        "ca = ca.fit(X)"
      ]
    },
    {
      "cell_type": "code",
      "execution_count": 100,
      "metadata": {
        "id": "9UQD4LsLsIKp"
      },
      "outputs": [],
      "source": [
        "DF_2=ca.row_coordinates(X)\n",
        "DF_2['Legend']='Ojos'"
      ]
    },
    {
      "cell_type": "code",
      "execution_count": 101,
      "metadata": {
        "id": "F268v_2jsIKp"
      },
      "outputs": [],
      "source": [
        "DF=ca.column_coordinates(X)\n",
        "DF['Legend']='Pelo'"
      ]
    },
    {
      "cell_type": "code",
      "execution_count": 102,
      "metadata": {
        "id": "qTsfygyY-63t"
      },
      "outputs": [],
      "source": [
        "DF_3=pd.concat([DF,DF_2])"
      ]
    },
    {
      "cell_type": "markdown",
      "metadata": {
        "id": "71t5AYmKsIKp"
      },
      "source": [
        "Puede trazar ambos conjuntos de coordenadas principales con el método plot_coordinates."
      ]
    },
    {
      "cell_type": "code",
      "execution_count": 103,
      "metadata": {
        "colab": {
          "base_uri": "https://localhost:8080/",
          "height": 449
        },
        "id": "dQhTwHDZsIKp",
        "outputId": "e8c1cb86-0e33-4dae-891b-51a14a300c7b"
      },
      "outputs": [
        {
          "data": {
            "image/png": "[encoded data removed]",
            "text/plain": [
              "<Figure size 640x480 with 1 Axes>"
            ]
          },
          "metadata": {},
          "output_type": "display_data"
        }
      ],
      "source": [
        "sns.scatterplot(x=0, y=1,data=DF_3,hue='Legend')\n",
        "for i in range(len(DF_3)):\n",
        "    plt.text(DF_3.iloc[i,0],DF_3.iloc[i,1],DF_3.index[i])"
      ]
    },
    {
      "cell_type": "code",
      "execution_count": 104,
      "metadata": {
        "colab": {
          "base_uri": "https://localhost:8080/"
        },
        "id": "w9oMUflesIKq",
        "outputId": "8a0610df-0dc3-44ea-aa8c-6326fd3a7f01"
      },
      "outputs": [
        {
          "data": {
            "text/plain": [
              "array([0.70000697, 0.50709988])"
            ]
          },
          "execution_count": 104,
          "metadata": {},
          "output_type": "execute_result"
        }
      ],
      "source": [
        "ca.eigenvalues_"
      ]
    },
    {
      "cell_type": "code",
      "execution_count": 108,
      "metadata": {
        "colab": {
          "base_uri": "https://localhost:8080/"
        },
        "id": "L7q1JNWaAGv4",
        "outputId": "6f3daa5a-eb1d-43aa-c954-29930fbecf25"
      },
      "outputs": [
        {
          "data": {
            "text/plain": [
              "array([57.2452341 , 98.71489422])"
            ]
          },
          "execution_count": 108,
          "metadata": {},
          "output_type": "execute_result"
        }
      ],
      "source": [
        "ca.cumulative_percentage_of_variance_"
      ]
    },
    {
      "cell_type": "code",
      "execution_count": 105,
      "metadata": {
        "colab": {
          "base_uri": "https://localhost:8080/"
        },
        "id": "iaqeI65MsIKq",
        "outputId": "b8bcf3c4-b44c-41f2-82d6-5a0be9d88d65"
      },
      "outputs": [
        {
          "data": {
            "text/plain": [
              "1.2228214014382508"
            ]
          },
          "execution_count": 105,
          "metadata": {},
          "output_type": "execute_result"
        }
      ],
      "source": [
        "ca.total_inertia_"
      ]
    },
    {
      "attachments": {},
      "cell_type": "markdown",
      "metadata": {
        "id": "JKtcb9gosIKq"
      },
      "source": [
        "## Análisis de correspondencias multiples\n",
        "\n",
        "# Análisis de Correspondencias Múltiples\n",
        "\n",
        "El Análisis de Correspondencias Múltiples (ACM) es una técnica estadística utilizada para analizar y visualizar datos categóricos en múltiples variables. A diferencia del Análisis de Componentes Principales (PCA), que se utiliza para datos numéricos, el ACM es aplicable a variables categóricas y proporciona información sobre las relaciones entre categorías y variables en un conjunto de datos.\n",
        "\n",
        "## ¿Por qué es importante el Análisis de Correspondencias Múltiples?\n",
        "\n",
        "En muchos conjuntos de datos, especialmente aquellos que involucran variables categóricas, es crucial comprender las relaciones y asociaciones entre diferentes categorías y variables. El ACM nos permite explorar y visualizar estas relaciones de manera efectiva al reducir la dimensionalidad de los datos y mostrar patrones significativos en un espacio de menor dimensión.\n",
        "\n",
        "## Técnicas y pasos en el Análisis de Correspondencias Múltiples\n",
        "\n",
        "El ACM implica una serie de pasos para su implementación:\n",
        "\n",
        "- Creación de una tabla de contingencia: Se construye una tabla que muestra las frecuencias de las combinaciones de categorías entre variables.\n",
        "\n",
        "- Cálculo de las contribuciones y las inercias: Se calculan las contribuciones y las inercias de las categorías y las variables para determinar su importancia en el análisis.\n",
        "\n",
        "- Cálculo de las coordenadas: Se calculan las coordenadas de las categorías y las variables en un espacio de menor dimensión, donde las categorías y las variables que están asociadas se agrupan juntas.\n",
        "\n",
        "- Visualización de los resultados: Se generan gráficos, como el biplot de ACM, para visualizar las relaciones y las asociaciones entre las categorías y las variables en el espacio de menor dimensión.\n",
        "\n",
        "## Aplicaciones del Análisis de Correspondencias Múltiples\n",
        "\n",
        "El ACM encuentra aplicaciones en diversos campos, como el análisis de encuestas, el estudio de preferencias del consumidor, el análisis de datos de marketing y la investigación social. Permite descubrir patrones y relaciones ocultas en datos categóricos, lo que puede proporcionar información valiosa para la toma de decisiones y la comprensión de fenómenos complejos.\n",
        "\n",
        "## Evaluación de los resultados del Análisis de Correspondencias Múltiples\n",
        "\n",
        "La evaluación de los resultados del ACM implica examinar la calidad de la representación de los datos en el espacio de menor dimensión y analizar la interpretabilidad de los patrones y las asociaciones descubiertas. Además, se pueden utilizar medidas estadísticas, como las inercias relativas y los porcentajes de inercia explicada, para evaluar la calidad del análisis y la importancia de las variables y las categorías en el espacio reducido.\n",
        "\n",
        "## Análisis de correspondencias múltiples en Python\n",
        "\n",
        "El análisis de correspondencia múltiple (ACM) es una extensión del análisis de correspondencia (AC). Debería utilizarse cuando tenga más de dos variables categóricas. La idea es simplemente calcular los one-hot-vector de un conjunto de datos y aplicar CA en él. Como ejemplo, usaremos el conjunto de datos de [globos](https://archive.ics.uci.edu/ml/machine-learning-databases/balloons/) tomados del sitio web de conjuntos de datos de UCI."
      ]
    },
    {
      "cell_type": "code",
      "execution_count": 30,
      "metadata": {
        "id": "1DYzPD5gsIKq"
      },
      "outputs": [
        {
          "data": {
            "text/html": [
              "<div>\n",
              "<style scoped>\n",
              "    .dataframe tbody tr th:only-of-type {\n",
              "        vertical-align: middle;\n",
              "    }\n",
              "\n",
              "    .dataframe tbody tr th {\n",
              "        vertical-align: top;\n",
              "    }\n",
              "\n",
              "    .dataframe thead th {\n",
              "        text-align: right;\n",
              "    }\n",
              "</style>\n",
              "<table border=\"1\" class=\"dataframe\">\n",
              "  <thead>\n",
              "    <tr style=\"text-align: right;\">\n",
              "      <th></th>\n",
              "      <th>Color</th>\n",
              "      <th>Size</th>\n",
              "      <th>Action</th>\n",
              "      <th>Age</th>\n",
              "      <th>Inflated</th>\n",
              "    </tr>\n",
              "  </thead>\n",
              "  <tbody>\n",
              "    <tr>\n",
              "      <th>0</th>\n",
              "      <td>YELLOW</td>\n",
              "      <td>SMALL</td>\n",
              "      <td>STRETCH</td>\n",
              "      <td>ADULT</td>\n",
              "      <td>T</td>\n",
              "    </tr>\n",
              "    <tr>\n",
              "      <th>1</th>\n",
              "      <td>YELLOW</td>\n",
              "      <td>SMALL</td>\n",
              "      <td>STRETCH</td>\n",
              "      <td>CHILD</td>\n",
              "      <td>F</td>\n",
              "    </tr>\n",
              "    <tr>\n",
              "      <th>2</th>\n",
              "      <td>YELLOW</td>\n",
              "      <td>SMALL</td>\n",
              "      <td>DIP</td>\n",
              "      <td>ADULT</td>\n",
              "      <td>F</td>\n",
              "    </tr>\n",
              "    <tr>\n",
              "      <th>3</th>\n",
              "      <td>YELLOW</td>\n",
              "      <td>SMALL</td>\n",
              "      <td>DIP</td>\n",
              "      <td>CHILD</td>\n",
              "      <td>F</td>\n",
              "    </tr>\n",
              "    <tr>\n",
              "      <th>4</th>\n",
              "      <td>YELLOW</td>\n",
              "      <td>LARGE</td>\n",
              "      <td>STRETCH</td>\n",
              "      <td>ADULT</td>\n",
              "      <td>T</td>\n",
              "    </tr>\n",
              "    <tr>\n",
              "      <th>5</th>\n",
              "      <td>YELLOW</td>\n",
              "      <td>LARGE</td>\n",
              "      <td>STRETCH</td>\n",
              "      <td>ADULT</td>\n",
              "      <td>T</td>\n",
              "    </tr>\n",
              "    <tr>\n",
              "      <th>6</th>\n",
              "      <td>YELLOW</td>\n",
              "      <td>LARGE</td>\n",
              "      <td>STRETCH</td>\n",
              "      <td>CHILD</td>\n",
              "      <td>F</td>\n",
              "    </tr>\n",
              "    <tr>\n",
              "      <th>7</th>\n",
              "      <td>YELLOW</td>\n",
              "      <td>LARGE</td>\n",
              "      <td>DIP</td>\n",
              "      <td>ADULT</td>\n",
              "      <td>F</td>\n",
              "    </tr>\n",
              "    <tr>\n",
              "      <th>8</th>\n",
              "      <td>YELLOW</td>\n",
              "      <td>LARGE</td>\n",
              "      <td>DIP</td>\n",
              "      <td>CHILD</td>\n",
              "      <td>F</td>\n",
              "    </tr>\n",
              "    <tr>\n",
              "      <th>9</th>\n",
              "      <td>PURPLE</td>\n",
              "      <td>SMALL</td>\n",
              "      <td>STRETCH</td>\n",
              "      <td>ADULT</td>\n",
              "      <td>T</td>\n",
              "    </tr>\n",
              "    <tr>\n",
              "      <th>10</th>\n",
              "      <td>PURPLE</td>\n",
              "      <td>SMALL</td>\n",
              "      <td>STRETCH</td>\n",
              "      <td>ADULT</td>\n",
              "      <td>T</td>\n",
              "    </tr>\n",
              "    <tr>\n",
              "      <th>11</th>\n",
              "      <td>PURPLE</td>\n",
              "      <td>SMALL</td>\n",
              "      <td>STRETCH</td>\n",
              "      <td>CHILD</td>\n",
              "      <td>F</td>\n",
              "    </tr>\n",
              "    <tr>\n",
              "      <th>12</th>\n",
              "      <td>PURPLE</td>\n",
              "      <td>SMALL</td>\n",
              "      <td>DIP</td>\n",
              "      <td>ADULT</td>\n",
              "      <td>F</td>\n",
              "    </tr>\n",
              "    <tr>\n",
              "      <th>13</th>\n",
              "      <td>PURPLE</td>\n",
              "      <td>SMALL</td>\n",
              "      <td>DIP</td>\n",
              "      <td>CHILD</td>\n",
              "      <td>F</td>\n",
              "    </tr>\n",
              "    <tr>\n",
              "      <th>14</th>\n",
              "      <td>PURPLE</td>\n",
              "      <td>LARGE</td>\n",
              "      <td>STRETCH</td>\n",
              "      <td>ADULT</td>\n",
              "      <td>T</td>\n",
              "    </tr>\n",
              "    <tr>\n",
              "      <th>15</th>\n",
              "      <td>PURPLE</td>\n",
              "      <td>LARGE</td>\n",
              "      <td>STRETCH</td>\n",
              "      <td>ADULT</td>\n",
              "      <td>T</td>\n",
              "    </tr>\n",
              "    <tr>\n",
              "      <th>16</th>\n",
              "      <td>PURPLE</td>\n",
              "      <td>LARGE</td>\n",
              "      <td>STRETCH</td>\n",
              "      <td>CHILD</td>\n",
              "      <td>F</td>\n",
              "    </tr>\n",
              "    <tr>\n",
              "      <th>17</th>\n",
              "      <td>PURPLE</td>\n",
              "      <td>LARGE</td>\n",
              "      <td>DIP</td>\n",
              "      <td>ADULT</td>\n",
              "      <td>F</td>\n",
              "    </tr>\n",
              "    <tr>\n",
              "      <th>18</th>\n",
              "      <td>PURPLE</td>\n",
              "      <td>LARGE</td>\n",
              "      <td>DIP</td>\n",
              "      <td>CHILD</td>\n",
              "      <td>F</td>\n",
              "    </tr>\n",
              "  </tbody>\n",
              "</table>\n",
              "</div>"
            ],
            "text/plain": [
              "     Color   Size   Action    Age Inflated\n",
              "0   YELLOW  SMALL  STRETCH  ADULT        T\n",
              "1   YELLOW  SMALL  STRETCH  CHILD        F\n",
              "2   YELLOW  SMALL      DIP  ADULT        F\n",
              "3   YELLOW  SMALL      DIP  CHILD        F\n",
              "4   YELLOW  LARGE  STRETCH  ADULT        T\n",
              "5   YELLOW  LARGE  STRETCH  ADULT        T\n",
              "6   YELLOW  LARGE  STRETCH  CHILD        F\n",
              "7   YELLOW  LARGE      DIP  ADULT        F\n",
              "8   YELLOW  LARGE      DIP  CHILD        F\n",
              "9   PURPLE  SMALL  STRETCH  ADULT        T\n",
              "10  PURPLE  SMALL  STRETCH  ADULT        T\n",
              "11  PURPLE  SMALL  STRETCH  CHILD        F\n",
              "12  PURPLE  SMALL      DIP  ADULT        F\n",
              "13  PURPLE  SMALL      DIP  CHILD        F\n",
              "14  PURPLE  LARGE  STRETCH  ADULT        T\n",
              "15  PURPLE  LARGE  STRETCH  ADULT        T\n",
              "16  PURPLE  LARGE  STRETCH  CHILD        F\n",
              "17  PURPLE  LARGE      DIP  ADULT        F\n",
              "18  PURPLE  LARGE      DIP  CHILD        F"
            ]
          },
          "execution_count": 30,
          "metadata": {},
          "output_type": "execute_result"
        }
      ],
      "source": [
        "import pandas as pd\n",
        "\n",
        "dataset = pd.read_csv('https://archive.ics.uci.edu/ml/machine-learning-databases/balloons/adult+stretch.data')\n",
        "dataset.columns = ['Color', 'Size', 'Action', 'Age', 'Inflated']\n",
        "dataset"
      ]
    },
    {
      "cell_type": "code",
      "execution_count": 9,
      "metadata": {
        "id": "AELI4gPbsIKq"
      },
      "outputs": [],
      "source": [
        "import prince\n",
        "\n",
        "mca = prince.MCA(\n",
        "    n_components=3,\n",
        "    n_iter=3,\n",
        "    copy=True,\n",
        "    check_input=True,\n",
        "    engine='sklearn',\n",
        "    random_state=42\n",
        ")\n",
        "mca = mca.fit(dataset)\n"
      ]
    },
    {
      "cell_type": "code",
      "execution_count": 10,
      "metadata": {},
      "outputs": [
        {
          "data": {
            "text/html": [
              "<div>\n",
              "<style scoped>\n",
              "    .dataframe tbody tr th:only-of-type {\n",
              "        vertical-align: middle;\n",
              "    }\n",
              "\n",
              "    .dataframe tbody tr th {\n",
              "        vertical-align: top;\n",
              "    }\n",
              "\n",
              "    .dataframe thead th {\n",
              "        text-align: right;\n",
              "    }\n",
              "</style>\n",
              "<table border=\"1\" class=\"dataframe\">\n",
              "  <thead>\n",
              "    <tr style=\"text-align: right;\">\n",
              "      <th></th>\n",
              "      <th>eigenvalue</th>\n",
              "      <th>% of variance</th>\n",
              "      <th>% of variance (cumulative)</th>\n",
              "    </tr>\n",
              "    <tr>\n",
              "      <th>component</th>\n",
              "      <th></th>\n",
              "      <th></th>\n",
              "      <th></th>\n",
              "    </tr>\n",
              "  </thead>\n",
              "  <tbody>\n",
              "    <tr>\n",
              "      <th>0</th>\n",
              "      <td>0.402</td>\n",
              "      <td>40.17%</td>\n",
              "      <td>40.17%</td>\n",
              "    </tr>\n",
              "    <tr>\n",
              "      <th>1</th>\n",
              "      <td>0.211</td>\n",
              "      <td>21.11%</td>\n",
              "      <td>61.28%</td>\n",
              "    </tr>\n",
              "    <tr>\n",
              "      <th>2</th>\n",
              "      <td>0.186</td>\n",
              "      <td>18.56%</td>\n",
              "      <td>79.84%</td>\n",
              "    </tr>\n",
              "  </tbody>\n",
              "</table>\n",
              "</div>"
            ],
            "text/plain": [
              "          eigenvalue % of variance % of variance (cumulative)\n",
              "component                                                    \n",
              "0              0.402        40.17%                     40.17%\n",
              "1              0.211        21.11%                     61.28%\n",
              "2              0.186        18.56%                     79.84%"
            ]
          },
          "execution_count": 10,
          "metadata": {},
          "output_type": "execute_result"
        }
      ],
      "source": [
        "mca.eigenvalues_summary"
      ]
    },
    {
      "cell_type": "code",
      "execution_count": 11,
      "metadata": {},
      "outputs": [
        {
          "data": {
            "text/plain": [
              "(19, 3)"
            ]
          },
          "execution_count": 11,
          "metadata": {},
          "output_type": "execute_result"
        }
      ],
      "source": [
        "mca.row_coordinates(dataset)"
      ]
    },
    {
      "cell_type": "code",
      "execution_count": 13,
      "metadata": {},
      "outputs": [
        {
          "data": {
            "text/html": [
              "<div>\n",
              "<style scoped>\n",
              "    .dataframe tbody tr th:only-of-type {\n",
              "        vertical-align: middle;\n",
              "    }\n",
              "\n",
              "    .dataframe tbody tr th {\n",
              "        vertical-align: top;\n",
              "    }\n",
              "\n",
              "    .dataframe thead th {\n",
              "        text-align: right;\n",
              "    }\n",
              "</style>\n",
              "<table border=\"1\" class=\"dataframe\">\n",
              "  <thead>\n",
              "    <tr style=\"text-align: right;\">\n",
              "      <th></th>\n",
              "      <th>0</th>\n",
              "      <th>1</th>\n",
              "      <th>2</th>\n",
              "    </tr>\n",
              "  </thead>\n",
              "  <tbody>\n",
              "    <tr>\n",
              "      <th>Color_PURPLE</th>\n",
              "      <td>0.117308</td>\n",
              "      <td>6.892024e-01</td>\n",
              "      <td>-0.641270</td>\n",
              "    </tr>\n",
              "    <tr>\n",
              "      <th>Color_YELLOW</th>\n",
              "      <td>-0.130342</td>\n",
              "      <td>-7.657805e-01</td>\n",
              "      <td>0.712523</td>\n",
              "    </tr>\n",
              "    <tr>\n",
              "      <th>Size_LARGE</th>\n",
              "      <td>0.117308</td>\n",
              "      <td>-6.892024e-01</td>\n",
              "      <td>-0.641270</td>\n",
              "    </tr>\n",
              "    <tr>\n",
              "      <th>Size_SMALL</th>\n",
              "      <td>-0.130342</td>\n",
              "      <td>7.657805e-01</td>\n",
              "      <td>0.712523</td>\n",
              "    </tr>\n",
              "    <tr>\n",
              "      <th>Action_DIP</th>\n",
              "      <td>-0.853864</td>\n",
              "      <td>-6.367615e-16</td>\n",
              "      <td>-0.079340</td>\n",
              "    </tr>\n",
              "    <tr>\n",
              "      <th>Action_STRETCH</th>\n",
              "      <td>0.620992</td>\n",
              "      <td>1.257848e-16</td>\n",
              "      <td>0.057702</td>\n",
              "    </tr>\n",
              "    <tr>\n",
              "      <th>Age_ADULT</th>\n",
              "      <td>0.620992</td>\n",
              "      <td>-6.726635e-16</td>\n",
              "      <td>0.057702</td>\n",
              "    </tr>\n",
              "    <tr>\n",
              "      <th>Age_CHILD</th>\n",
              "      <td>-0.853864</td>\n",
              "      <td>4.570179e-16</td>\n",
              "      <td>-0.079340</td>\n",
              "    </tr>\n",
              "    <tr>\n",
              "      <th>Inflated_F</th>\n",
              "      <td>-0.731466</td>\n",
              "      <td>5.144796e-17</td>\n",
              "      <td>-0.054731</td>\n",
              "    </tr>\n",
              "    <tr>\n",
              "      <th>Inflated_T</th>\n",
              "      <td>1.253942</td>\n",
              "      <td>-6.338835e-16</td>\n",
              "      <td>0.093825</td>\n",
              "    </tr>\n",
              "  </tbody>\n",
              "</table>\n",
              "</div>"
            ],
            "text/plain": [
              "                       0             1         2\n",
              "Color_PURPLE    0.117308  6.892024e-01 -0.641270\n",
              "Color_YELLOW   -0.130342 -7.657805e-01  0.712523\n",
              "Size_LARGE      0.117308 -6.892024e-01 -0.641270\n",
              "Size_SMALL     -0.130342  7.657805e-01  0.712523\n",
              "Action_DIP     -0.853864 -6.367615e-16 -0.079340\n",
              "Action_STRETCH  0.620992  1.257848e-16  0.057702\n",
              "Age_ADULT       0.620992 -6.726635e-16  0.057702\n",
              "Age_CHILD      -0.853864  4.570179e-16 -0.079340\n",
              "Inflated_F     -0.731466  5.144796e-17 -0.054731\n",
              "Inflated_T      1.253942 -6.338835e-16  0.093825"
            ]
          },
          "execution_count": 13,
          "metadata": {},
          "output_type": "execute_result"
        }
      ],
      "source": [
        "mca.column_coordinates(dataset)"
      ]
    },
    {
      "cell_type": "code",
      "execution_count": 29,
      "metadata": {
        "id": "upv4eLu6sIKr"
      },
      "outputs": [
        {
          "data": {
            "text/html": [
              "\n",
              "<style>\n",
              "  #altair-viz-da82ddd3d13b4b1492c7a5e0537bce29.vega-embed {\n",
              "    width: 100%;\n",
              "    display: flex;\n",
              "  }\n",
              "\n",
              "  #altair-viz-da82ddd3d13b4b1492c7a5e0537bce29.vega-embed details,\n",
              "  #altair-viz-da82ddd3d13b4b1492c7a5e0537bce29.vega-embed details summary {\n",
              "    position: relative;\n",
              "  }\n",
              "</style>\n",
              "<div id=\"altair-viz-da82ddd3d13b4b1492c7a5e0537bce29\"></div>\n",
              "<script type=\"text/javascript\">\n",
              "  var VEGA_DEBUG = (typeof VEGA_DEBUG == \"undefined\") ? {} : VEGA_DEBUG;\n",
              "  (function(spec, embedOpt){\n",
              "    let outputDiv = document.currentScript.previousElementSibling;\n",
              "    if (outputDiv.id !== \"altair-viz-da82ddd3d13b4b1492c7a5e0537bce29\") {\n",
              "      outputDiv = document.getElementById(\"altair-viz-da82ddd3d13b4b1492c7a5e0537bce29\");\n",
              "    }\n",
              "    const paths = {\n",
              "      \"vega\": \"https://cdn.jsdelivr.net/npm/vega@5?noext\",\n",
              "      \"vega-lib\": \"https://cdn.jsdelivr.net/npm/vega-lib?noext\",\n",
              "      \"vega-lite\": \"https://cdn.jsdelivr.net/npm/vega-lite@5.8.0?noext\",\n",
              "      \"vega-embed\": \"https://cdn.jsdelivr.net/npm/vega-embed@6?noext\",\n",
              "    };\n",
              "\n",
              "    function maybeLoadScript(lib, version) {\n",
              "      var key = `${lib.replace(\"-\", \"\")}_version`;\n",
              "      return (VEGA_DEBUG[key] == version) ?\n",
              "        Promise.resolve(paths[lib]) :\n",
              "        new Promise(function(resolve, reject) {\n",
              "          var s = document.createElement('script');\n",
              "          document.getElementsByTagName(\"head\")[0].appendChild(s);\n",
              "          s.async = true;\n",
              "          s.onload = () => {\n",
              "            VEGA_DEBUG[key] = version;\n",
              "            return resolve(paths[lib]);\n",
              "          };\n",
              "          s.onerror = () => reject(`Error loading script: ${paths[lib]}`);\n",
              "          s.src = paths[lib];\n",
              "        });\n",
              "    }\n",
              "\n",
              "    function showError(err) {\n",
              "      outputDiv.innerHTML = `<div class=\"error\" style=\"color:red;\">${err}</div>`;\n",
              "      throw err;\n",
              "    }\n",
              "\n",
              "    function displayChart(vegaEmbed) {\n",
              "      vegaEmbed(outputDiv, spec, embedOpt)\n",
              "        .catch(err => showError(`Javascript Error: ${err.message}<br>This usually means there's a typo in your chart specification. See the javascript console for the full traceback.`));\n",
              "    }\n",
              "\n",
              "    if(typeof define === \"function\" && define.amd) {\n",
              "      requirejs.config({paths});\n",
              "      require([\"vega-embed\"], displayChart, err => showError(`Error loading script: ${err.message}`));\n",
              "    } else {\n",
              "      maybeLoadScript(\"vega\", \"5\")\n",
              "        .then(() => maybeLoadScript(\"vega-lite\", \"5.8.0\"))\n",
              "        .then(() => maybeLoadScript(\"vega-embed\", \"6\"))\n",
              "        .catch(showError)\n",
              "        .then(() => displayChart(vegaEmbed));\n",
              "    }\n",
              "  })({\"config\": {\"view\": {\"continuousWidth\": 300, \"continuousHeight\": 300}}, \"data\": {\"name\": \"data-00708e94db1f6a4e39eef3f01cea4961\"}, \"mark\": {\"type\": \"circle\", \"size\": 50}, \"encoding\": {\"color\": {\"field\": \"variable\", \"type\": \"nominal\"}, \"tooltip\": [{\"field\": \"variable\", \"type\": \"nominal\"}, {\"field\": \"value\", \"type\": \"nominal\"}, {\"field\": \"component 0\", \"type\": \"quantitative\"}, {\"field\": \"component 1\", \"type\": \"quantitative\"}], \"x\": {\"axis\": {\"title\": \"component 0 \\u2014 40.17%\"}, \"field\": \"component 0\", \"scale\": {\"zero\": false}, \"type\": \"quantitative\"}, \"y\": {\"axis\": {\"title\": \"component 1 \\u2014 21.11%\"}, \"field\": \"component 1\", \"scale\": {\"zero\": false}, \"type\": \"quantitative\"}}, \"params\": [{\"name\": \"param_8\", \"select\": {\"type\": \"interval\", \"encodings\": [\"x\", \"y\"]}, \"bind\": \"scales\"}], \"$schema\": \"https://vega.github.io/schema/vega-lite/v5.8.0.json\", \"datasets\": {\"data-00708e94db1f6a4e39eef3f01cea4961\": [{\"component 0\": 0.705386799624833, \"component 1\": 5.369157675281349e-15, \"component 2\": 0.7586391105690958, \"variable\": \"row\", \"value\": \"0\"}, {\"component 0\": -0.3865862994959901, \"component 1\": 5.724889175530574e-15, \"component 2\": 0.626063081684002, \"variable\": \"row\", \"value\": \"1\"}, {\"component 0\": -0.38658629949599027, \"component 1\": 4.807799212409681e-15, \"component 2\": 0.6260630816840012, \"variable\": \"row\", \"value\": \"2\"}, {\"component 0\": -0.8520140574664052, \"component 1\": 5.1087824590383175e-15, \"component 2\": 0.5624474892356488, \"variable\": \"row\", \"value\": \"3\"}, {\"component 0\": 0.7835387510478179, \"component 1\": -0.6333333333333329, \"component 2\": 0.13020069134918655, \"variable\": \"row\", \"value\": \"4\"}, {\"component 0\": 0.7835387510478179, \"component 1\": -0.6333333333333329, \"component 2\": 0.13020069134918655, \"variable\": \"row\", \"value\": \"5\"}, {\"component 0\": -0.3084343480730051, \"component 1\": -0.6333333333333324, \"component 2\": -0.002375337535907171, \"variable\": \"row\", \"value\": \"6\"}, {\"component 0\": -0.30843434807300524, \"component 1\": -0.6333333333333334, \"component 2\": -0.0023753375359081112, \"variable\": \"row\", \"value\": \"7\"}, {\"component 0\": -0.7738621060434202, \"component 1\": -0.6333333333333331, \"component 2\": -0.06599092998426041, \"variable\": \"row\", \"value\": \"8\"}, {\"component 0\": 0.7835387510478189, \"component 1\": 0.6333333333333334, \"component 2\": 0.1302006913491765, \"variable\": \"row\", \"value\": \"9\"}, {\"component 0\": 0.7835387510478189, \"component 1\": 0.6333333333333334, \"component 2\": 0.1302006913491765, \"variable\": \"row\", \"value\": \"10\"}, {\"component 0\": -0.3084343480730041, \"component 1\": 0.6333333333333339, \"component 2\": -0.0023753375359172324, \"variable\": \"row\", \"value\": \"11\"}, {\"component 0\": -0.3084343480730043, \"component 1\": 0.6333333333333329, \"component 2\": -0.0023753375359181726, \"variable\": \"row\", \"value\": \"12\"}, {\"component 0\": -0.7738621060434193, \"component 1\": 0.6333333333333332, \"component 2\": -0.06599092998427047, \"variable\": \"row\", \"value\": \"13\"}, {\"component 0\": 0.8616907024708039, \"component 1\": -4.703117939444958e-15, \"component 2\": -0.49823772787073284, \"variable\": \"row\", \"value\": \"14\"}, {\"component 0\": 0.8616907024708039, \"component 1\": -4.703117939444958e-15, \"component 2\": -0.49823772787073284, \"variable\": \"row\", \"value\": \"15\"}, {\"component 0\": -0.23028239665001912, \"component 1\": -4.347386439195733e-15, \"component 2\": -0.6308137567558266, \"variable\": \"row\", \"value\": \"16\"}, {\"component 0\": -0.23028239665001932, \"component 1\": -5.2644764023166255e-15, \"component 2\": -0.6308137567558275, \"variable\": \"row\", \"value\": \"17\"}, {\"component 0\": -0.6957101546204343, \"component 1\": -4.963493155687989e-15, \"component 2\": -0.6944293492041799, \"variable\": \"row\", \"value\": \"18\"}, {\"component 0\": 0.11730760677191537, \"component 1\": 0.6892024376045062, \"component 2\": -0.6412704755837051, \"variable\": \"column\", \"value\": \"Color_PURPLE\"}, {\"component 0\": -0.1303417853021281, \"component 1\": -0.7657804862272294, \"component 2\": 0.7125227506485615, \"variable\": \"column\", \"value\": \"Color_YELLOW\"}, {\"component 0\": 0.11730760677191437, \"component 1\": -0.6892024376045159, \"component 2\": -0.641270475583695, \"variable\": \"column\", \"value\": \"Size_LARGE\"}, {\"component 0\": -0.13034178530212698, \"component 1\": 0.7657804862272393, \"component 2\": 0.7125227506485502, \"variable\": \"column\", \"value\": \"Size_SMALL\"}, {\"component 0\": -0.8538641988881541, \"component 1\": -6.367615149787553e-16, \"component 2\": -0.0793400134079546, \"variable\": \"column\", \"value\": \"Action_DIP\"}, {\"component 0\": 0.6209921446459304, \"component 1\": 1.257847508118319e-16, \"component 2\": 0.05770182793305838, \"variable\": \"column\", \"value\": \"Action_STRETCH\"}, {\"component 0\": 0.6209921446459306, \"component 1\": -6.726635078521874e-16, \"component 2\": 0.05770182793305778, \"variable\": \"column\", \"value\": \"Age_ADULT\"}, {\"component 0\": -0.8538641988881541, \"component 1\": 4.570179054814616e-16, \"component 2\": -0.0793400134079539, \"variable\": \"column\", \"value\": \"Age_CHILD\"}, {\"component 0\": -0.7314664035372918, \"component 1\": 5.144795608651714e-17, \"component 2\": -0.05473108398079362, \"variable\": \"column\", \"value\": \"Inflated_F\"}, {\"component 0\": 1.253942406063929, \"component 1\": -6.338835035498657e-16, \"component 2\": 0.09382471539564684, \"variable\": \"column\", \"value\": \"Inflated_T\"}]}}, {\"mode\": \"vega-lite\"});\n",
              "</script>"
            ],
            "text/plain": [
              "alt.Chart(...)"
            ]
          },
          "execution_count": 29,
          "metadata": {},
          "output_type": "execute_result"
        }
      ],
      "source": [
        "mca.plot(\n",
        "    dataset,\n",
        "    x_component=0,\n",
        "y_component=1\n",
        ")\n"
      ]
    },
    {
      "cell_type": "code",
      "execution_count": 6,
      "metadata": {},
      "outputs": [
        {
          "data": {
            "text/html": [
              "<div>\n",
              "<style scoped>\n",
              "    .dataframe tbody tr th:only-of-type {\n",
              "        vertical-align: middle;\n",
              "    }\n",
              "\n",
              "    .dataframe tbody tr th {\n",
              "        vertical-align: top;\n",
              "    }\n",
              "\n",
              "    .dataframe thead th {\n",
              "        text-align: right;\n",
              "    }\n",
              "</style>\n",
              "<table border=\"1\" class=\"dataframe\">\n",
              "  <thead>\n",
              "    <tr style=\"text-align: right;\">\n",
              "      <th></th>\n",
              "      <th>0</th>\n",
              "      <th>1</th>\n",
              "      <th>2</th>\n",
              "    </tr>\n",
              "  </thead>\n",
              "  <tbody>\n",
              "    <tr>\n",
              "      <th>Color_PURPLE</th>\n",
              "      <td>0.015290</td>\n",
              "      <td>5.277778e-01</td>\n",
              "      <td>0.456920</td>\n",
              "    </tr>\n",
              "    <tr>\n",
              "      <th>Color_YELLOW</th>\n",
              "      <td>0.015290</td>\n",
              "      <td>5.277778e-01</td>\n",
              "      <td>0.456920</td>\n",
              "    </tr>\n",
              "    <tr>\n",
              "      <th>Size_LARGE</th>\n",
              "      <td>0.015290</td>\n",
              "      <td>5.277778e-01</td>\n",
              "      <td>0.456920</td>\n",
              "    </tr>\n",
              "    <tr>\n",
              "      <th>Size_SMALL</th>\n",
              "      <td>0.015290</td>\n",
              "      <td>5.277778e-01</td>\n",
              "      <td>0.456920</td>\n",
              "    </tr>\n",
              "    <tr>\n",
              "      <th>Action_DIP</th>\n",
              "      <td>0.530243</td>\n",
              "      <td>2.948838e-31</td>\n",
              "      <td>0.004578</td>\n",
              "    </tr>\n",
              "    <tr>\n",
              "      <th>Action_STRETCH</th>\n",
              "      <td>0.530243</td>\n",
              "      <td>2.175498e-32</td>\n",
              "      <td>0.004578</td>\n",
              "    </tr>\n",
              "    <tr>\n",
              "      <th>Age_ADULT</th>\n",
              "      <td>0.530243</td>\n",
              "      <td>6.221548e-31</td>\n",
              "      <td>0.004578</td>\n",
              "    </tr>\n",
              "    <tr>\n",
              "      <th>Age_CHILD</th>\n",
              "      <td>0.530243</td>\n",
              "      <td>1.519021e-31</td>\n",
              "      <td>0.004578</td>\n",
              "    </tr>\n",
              "    <tr>\n",
              "      <th>Inflated_F</th>\n",
              "      <td>0.917217</td>\n",
              "      <td>4.537529e-33</td>\n",
              "      <td>0.005135</td>\n",
              "    </tr>\n",
              "    <tr>\n",
              "      <th>Inflated_T</th>\n",
              "      <td>0.917217</td>\n",
              "      <td>2.343882e-31</td>\n",
              "      <td>0.005135</td>\n",
              "    </tr>\n",
              "  </tbody>\n",
              "</table>\n",
              "</div>"
            ],
            "text/plain": [
              "                       0             1         2\n",
              "Color_PURPLE    0.015290  5.277778e-01  0.456920\n",
              "Color_YELLOW    0.015290  5.277778e-01  0.456920\n",
              "Size_LARGE      0.015290  5.277778e-01  0.456920\n",
              "Size_SMALL      0.015290  5.277778e-01  0.456920\n",
              "Action_DIP      0.530243  2.948838e-31  0.004578\n",
              "Action_STRETCH  0.530243  2.175498e-32  0.004578\n",
              "Age_ADULT       0.530243  6.221548e-31  0.004578\n",
              "Age_CHILD       0.530243  1.519021e-31  0.004578\n",
              "Inflated_F      0.917217  4.537529e-33  0.005135\n",
              "Inflated_T      0.917217  2.343882e-31  0.005135"
            ]
          },
          "execution_count": 6,
          "metadata": {},
          "output_type": "execute_result"
        }
      ],
      "source": [
        "mca.column_cosine_similarities(dataset)"
      ]
    },
    {
      "attachments": {},
      "cell_type": "markdown",
      "metadata": {
        "id": "hZgVO99TsIKr"
      },
      "source": [
        "## Análisis de factores múltiple\n",
        "\n",
        "El Análisis de Factores Múltiples (MFA, por sus siglas en inglés: Multiple Factor Analysis) es una técnica estadística utilizada para analizar conjuntos de datos que contienen variables de diferentes tipos (numéricas, categóricas, etc.) y están organizados en grupos o bloques. El MFA permite identificar patrones y relaciones entre los grupos de variables, así como explorar la estructura subyacente en los datos.\n",
        "\n",
        "## Importancia del Análisis de Factores Múltiples\n",
        "\n",
        "En muchos estudios y análisis, es común encontrar conjuntos de datos con múltiples grupos de variables que pueden estar correlacionados entre sí dentro de cada grupo. El MFA se utiliza para abordar este escenario, ya que permite realizar un análisis conjunto de múltiples grupos de variables, teniendo en cuenta la estructura de correlación dentro de cada grupo y las relaciones entre los grupos.\n",
        "\n",
        "## Técnicas y pasos en el Análisis de Factores Múltiples\n",
        "\n",
        "El MFA implica varios pasos para su implementación:\n",
        "\n",
        "1. Preparación de los datos: Se organiza el conjunto de datos en grupos o bloques de variables. Cada grupo puede tener diferentes tipos de variables y se pueden aplicar técnicas de preprocesamiento específicas a cada tipo de variable.\n",
        "\n",
        "2. Análisis factorial en cada grupo: Se realiza un análisis factorial en cada grupo de variables para identificar los factores subyacentes y calcular las puntuaciones de los individuos para cada factor.\n",
        "\n",
        "3. Integración de los resultados: Se integran los resultados de los análisis factoriales de cada grupo para obtener una visión global de los datos. Esto se puede lograr mediante el análisis de las matrices de correlación entre los factores de cada grupo y la creación de una representación conjunta de los datos.\n",
        "\n",
        "4. Interpretación de los resultados: Se interpreta la estructura de factores obtenida y se analizan las relaciones entre los grupos de variables. Esto puede involucrar la identificación de variables clave, la comparación de puntuaciones de individuos entre grupos y la exploración de asociaciones y patrones globales.\n",
        "\n",
        "## Aplicaciones del Análisis de Factores Múltiples\n",
        "\n",
        "El MFA tiene diversas aplicaciones en áreas como la investigación social, la psicología, el análisis de encuestas, la genética, entre otros. Se utiliza cuando hay múltiples grupos de variables y se busca comprender las relaciones entre los grupos y los patrones subyacentes en los datos.\n",
        "\n",
        "## Evaluación de los resultados del Análisis de Factores Múltiples\n",
        "\n",
        "La evaluación de los resultados del MFA implica examinar la estructura de factores obtenida, la varianza explicada por cada factor y las asociaciones entre los grupos de variables. Además, se pueden utilizar medidas estadísticas, como la inercia y los porcentajes de inercia explicada, para evaluar la calidad del análisis y la importancia de los grupos de variables en el espacio factorial.\n",
        "\n",
        "## Análisis de factores múltiples en Python\n",
        "\n",
        "El análisis de factores múltiples (MFA) está diseñado para usarse cuando tiene grupos de variables. En la práctica, construye un PCA en cada grupo, o un MCA, según los tipos de variables del grupo. Luego, construye un PCA global sobre los resultados de los llamados PCA parciales, o MCA.\n",
        "\n",
        "El conjunto de datos utilizado en los siguientes ejemplos proviene de este [documento](https://www.utdallas.edu/%7Eherve/Abdi-MFA2007-pretty.pdf). En el conjunto de datos, tres expertos dan su opinión sobre seis vinos diferentes. Cada opinión para cada vino se registra como una variable. Por lo tanto, queremos considerar las opiniones separadas de cada experto y al mismo tiempo tener una visión global de cada vino. MFA es el método perfecto para este tipo de situación.\n",
        "\n",
        "Primero que nada, copiemos los datos usados en el documento."
      ]
    },
    {
      "cell_type": "code",
      "execution_count": 1,
      "metadata": {
        "id": "WIgFoa2WsIKr"
      },
      "outputs": [
        {
          "name": "stderr",
          "output_type": "stream",
          "text": [
            "<frozen importlib._bootstrap>:241: RuntimeWarning: scipy._lib.messagestream.MessageStream size changed, may indicate binary incompatibility. Expected 56 from C header, got 64 from PyObject\n"
          ]
        },
        {
          "data": {
            "text/html": [
              "<div>\n",
              "<style scoped>\n",
              "    .dataframe tbody tr th:only-of-type {\n",
              "        vertical-align: middle;\n",
              "    }\n",
              "\n",
              "    .dataframe tbody tr th {\n",
              "        vertical-align: top;\n",
              "    }\n",
              "\n",
              "    .dataframe thead tr th {\n",
              "        text-align: left;\n",
              "    }\n",
              "</style>\n",
              "<table border=\"1\" class=\"dataframe\">\n",
              "  <thead>\n",
              "    <tr>\n",
              "      <th>expert</th>\n",
              "      <th>Oak type</th>\n",
              "      <th colspan=\"3\" halign=\"left\">Expert 1</th>\n",
              "      <th colspan=\"4\" halign=\"left\">Expert 2</th>\n",
              "      <th colspan=\"3\" halign=\"left\">Expert 3</th>\n",
              "    </tr>\n",
              "    <tr>\n",
              "      <th>aspect</th>\n",
              "      <th></th>\n",
              "      <th>Fruity</th>\n",
              "      <th>Woody</th>\n",
              "      <th>Coffee</th>\n",
              "      <th>Red fruit</th>\n",
              "      <th>Roasted</th>\n",
              "      <th>Vanillin</th>\n",
              "      <th>Woody</th>\n",
              "      <th>Fruity</th>\n",
              "      <th>Butter</th>\n",
              "      <th>Woody</th>\n",
              "    </tr>\n",
              "  </thead>\n",
              "  <tbody>\n",
              "    <tr>\n",
              "      <th>Wine 1</th>\n",
              "      <td>1</td>\n",
              "      <td>1</td>\n",
              "      <td>6</td>\n",
              "      <td>7</td>\n",
              "      <td>2</td>\n",
              "      <td>5</td>\n",
              "      <td>7</td>\n",
              "      <td>6</td>\n",
              "      <td>3</td>\n",
              "      <td>6</td>\n",
              "      <td>7</td>\n",
              "    </tr>\n",
              "    <tr>\n",
              "      <th>Wine 2</th>\n",
              "      <td>2</td>\n",
              "      <td>5</td>\n",
              "      <td>3</td>\n",
              "      <td>2</td>\n",
              "      <td>4</td>\n",
              "      <td>4</td>\n",
              "      <td>4</td>\n",
              "      <td>2</td>\n",
              "      <td>4</td>\n",
              "      <td>4</td>\n",
              "      <td>3</td>\n",
              "    </tr>\n",
              "    <tr>\n",
              "      <th>Wine 3</th>\n",
              "      <td>2</td>\n",
              "      <td>6</td>\n",
              "      <td>1</td>\n",
              "      <td>1</td>\n",
              "      <td>5</td>\n",
              "      <td>2</td>\n",
              "      <td>1</td>\n",
              "      <td>1</td>\n",
              "      <td>7</td>\n",
              "      <td>1</td>\n",
              "      <td>1</td>\n",
              "    </tr>\n",
              "    <tr>\n",
              "      <th>Wine 4</th>\n",
              "      <td>2</td>\n",
              "      <td>7</td>\n",
              "      <td>1</td>\n",
              "      <td>2</td>\n",
              "      <td>7</td>\n",
              "      <td>2</td>\n",
              "      <td>1</td>\n",
              "      <td>2</td>\n",
              "      <td>2</td>\n",
              "      <td>2</td>\n",
              "      <td>2</td>\n",
              "    </tr>\n",
              "    <tr>\n",
              "      <th>Wine 5</th>\n",
              "      <td>1</td>\n",
              "      <td>2</td>\n",
              "      <td>5</td>\n",
              "      <td>4</td>\n",
              "      <td>3</td>\n",
              "      <td>5</td>\n",
              "      <td>6</td>\n",
              "      <td>5</td>\n",
              "      <td>2</td>\n",
              "      <td>6</td>\n",
              "      <td>6</td>\n",
              "    </tr>\n",
              "    <tr>\n",
              "      <th>Wine 6</th>\n",
              "      <td>1</td>\n",
              "      <td>3</td>\n",
              "      <td>4</td>\n",
              "      <td>4</td>\n",
              "      <td>3</td>\n",
              "      <td>5</td>\n",
              "      <td>4</td>\n",
              "      <td>5</td>\n",
              "      <td>1</td>\n",
              "      <td>7</td>\n",
              "      <td>5</td>\n",
              "    </tr>\n",
              "  </tbody>\n",
              "</table>\n",
              "</div>"
            ],
            "text/plain": [
              "expert Oak type Expert 1               Expert 2                          \n",
              "aspect            Fruity Woody Coffee Red fruit Roasted Vanillin Woody   \n",
              "Wine 1        1        1     6      7         2       5        7     6  \\\n",
              "Wine 2        2        5     3      2         4       4        4     2   \n",
              "Wine 3        2        6     1      1         5       2        1     1   \n",
              "Wine 4        2        7     1      2         7       2        1     2   \n",
              "Wine 5        1        2     5      4         3       5        6     5   \n",
              "Wine 6        1        3     4      4         3       5        4     5   \n",
              "\n",
              "expert Expert 3               \n",
              "aspect   Fruity Butter Woody  \n",
              "Wine 1        3      6     7  \n",
              "Wine 2        4      4     3  \n",
              "Wine 3        7      1     1  \n",
              "Wine 4        2      2     2  \n",
              "Wine 5        2      6     6  \n",
              "Wine 6        1      7     5  "
            ]
          },
          "execution_count": 1,
          "metadata": {},
          "output_type": "execute_result"
        }
      ],
      "source": [
        "import prince \n",
        "\n",
        "dataset = prince.datasets.load_burgundy_wines()\n",
        "dataset"
      ]
    },
    {
      "cell_type": "markdown",
      "metadata": {
        "id": "vJKMP-XUsIKr"
      },
      "source": [
        "Los grupos se pasan como un diccionario a la clase MFA."
      ]
    },
    {
      "cell_type": "code",
      "execution_count": 2,
      "metadata": {
        "id": "c1TVHD8GsIKr"
      },
      "outputs": [
        {
          "data": {
            "text/plain": [
              "['Expert 1', 'Expert 2', 'Expert 3']"
            ]
          },
          "execution_count": 2,
          "metadata": {},
          "output_type": "execute_result"
        }
      ],
      "source": [
        "groups = dataset.columns.levels[0].drop(\"Oak type\").tolist()\n",
        "groups"
      ]
    },
    {
      "cell_type": "markdown",
      "metadata": {
        "id": "HnZij1QJsIKr"
      },
      "source": [
        "Ajustamos un MFA"
      ]
    },
    {
      "cell_type": "code",
      "execution_count": 3,
      "metadata": {
        "id": "Dfb1wwlPsIKr"
      },
      "outputs": [],
      "source": [
        "mfa = prince.MFA(\n",
        "    n_components=2,\n",
        "    n_iter=3,\n",
        "    copy=True,\n",
        "    check_input=True,\n",
        "    engine='sklearn',\n",
        "    random_state=42\n",
        ")\n",
        "mfa = mfa.fit(dataset, groups=groups)\n"
      ]
    },
    {
      "attachments": {},
      "cell_type": "markdown",
      "metadata": {
        "id": "rrZn4JKTsIKr"
      },
      "source": [
        "El MFA hereda de la clase PCA, lo que implica que tiene acceso a todos sus métodos y propiedades. "
      ]
    },
    {
      "cell_type": "code",
      "execution_count": 4,
      "metadata": {
        "id": "32ispm86sIKs"
      },
      "outputs": [
        {
          "data": {
            "text/html": [
              "<div>\n",
              "<style scoped>\n",
              "    .dataframe tbody tr th:only-of-type {\n",
              "        vertical-align: middle;\n",
              "    }\n",
              "\n",
              "    .dataframe tbody tr th {\n",
              "        vertical-align: top;\n",
              "    }\n",
              "\n",
              "    .dataframe thead th {\n",
              "        text-align: right;\n",
              "    }\n",
              "</style>\n",
              "<table border=\"1\" class=\"dataframe\">\n",
              "  <thead>\n",
              "    <tr style=\"text-align: right;\">\n",
              "      <th></th>\n",
              "      <th>eigenvalue</th>\n",
              "      <th>% of variance</th>\n",
              "      <th>% of variance (cumulative)</th>\n",
              "    </tr>\n",
              "    <tr>\n",
              "      <th>component</th>\n",
              "      <th></th>\n",
              "      <th></th>\n",
              "      <th></th>\n",
              "    </tr>\n",
              "  </thead>\n",
              "  <tbody>\n",
              "    <tr>\n",
              "      <th>0</th>\n",
              "      <td>2.835</td>\n",
              "      <td>88.82%</td>\n",
              "      <td>88.82%</td>\n",
              "    </tr>\n",
              "    <tr>\n",
              "      <th>1</th>\n",
              "      <td>0.357</td>\n",
              "      <td>11.18%</td>\n",
              "      <td>100.00%</td>\n",
              "    </tr>\n",
              "  </tbody>\n",
              "</table>\n",
              "</div>"
            ],
            "text/plain": [
              "          eigenvalue % of variance % of variance (cumulative)\n",
              "component                                                    \n",
              "0              2.835        88.82%                     88.82%\n",
              "1              0.357        11.18%                    100.00%"
            ]
          },
          "execution_count": 4,
          "metadata": {},
          "output_type": "execute_result"
        }
      ],
      "source": [
        "mfa.eigenvalues_summary"
      ]
    },
    {
      "cell_type": "code",
      "execution_count": 5,
      "metadata": {},
      "outputs": [
        {
          "data": {
            "text/html": [
              "<div>\n",
              "<style scoped>\n",
              "    .dataframe tbody tr th:only-of-type {\n",
              "        vertical-align: middle;\n",
              "    }\n",
              "\n",
              "    .dataframe tbody tr th {\n",
              "        vertical-align: top;\n",
              "    }\n",
              "\n",
              "    .dataframe thead th {\n",
              "        text-align: right;\n",
              "    }\n",
              "</style>\n",
              "<table border=\"1\" class=\"dataframe\">\n",
              "  <thead>\n",
              "    <tr style=\"text-align: right;\">\n",
              "      <th></th>\n",
              "      <th>0</th>\n",
              "      <th>1</th>\n",
              "    </tr>\n",
              "  </thead>\n",
              "  <tbody>\n",
              "    <tr>\n",
              "      <th>Wine 1</th>\n",
              "      <td>-2.172155</td>\n",
              "      <td>-0.508596</td>\n",
              "    </tr>\n",
              "    <tr>\n",
              "      <th>Wine 2</th>\n",
              "      <td>0.557017</td>\n",
              "      <td>-0.197408</td>\n",
              "    </tr>\n",
              "    <tr>\n",
              "      <th>Wine 3</th>\n",
              "      <td>2.317663</td>\n",
              "      <td>-0.830259</td>\n",
              "    </tr>\n",
              "    <tr>\n",
              "      <th>Wine 4</th>\n",
              "      <td>1.832557</td>\n",
              "      <td>0.905046</td>\n",
              "    </tr>\n",
              "    <tr>\n",
              "      <th>Wine 5</th>\n",
              "      <td>-1.403787</td>\n",
              "      <td>0.054977</td>\n",
              "    </tr>\n",
              "    <tr>\n",
              "      <th>Wine 6</th>\n",
              "      <td>-1.131296</td>\n",
              "      <td>0.576241</td>\n",
              "    </tr>\n",
              "  </tbody>\n",
              "</table>\n",
              "</div>"
            ],
            "text/plain": [
              "               0         1\n",
              "Wine 1 -2.172155 -0.508596\n",
              "Wine 2  0.557017 -0.197408\n",
              "Wine 3  2.317663 -0.830259\n",
              "Wine 4  1.832557  0.905046\n",
              "Wine 5 -1.403787  0.054977\n",
              "Wine 6 -1.131296  0.576241"
            ]
          },
          "execution_count": 5,
          "metadata": {},
          "output_type": "execute_result"
        }
      ],
      "source": [
        "mfa.row_coordinates(dataset)"
      ]
    },
    {
      "cell_type": "code",
      "execution_count": 6,
      "metadata": {},
      "outputs": [
        {
          "data": {
            "text/html": [
              "<div>\n",
              "<style scoped>\n",
              "    .dataframe tbody tr th:only-of-type {\n",
              "        vertical-align: middle;\n",
              "    }\n",
              "\n",
              "    .dataframe tbody tr th {\n",
              "        vertical-align: top;\n",
              "    }\n",
              "\n",
              "    .dataframe thead tr th {\n",
              "        text-align: left;\n",
              "    }\n",
              "</style>\n",
              "<table border=\"1\" class=\"dataframe\">\n",
              "  <thead>\n",
              "    <tr>\n",
              "      <th>group</th>\n",
              "      <th colspan=\"2\" halign=\"left\">Expert 1</th>\n",
              "      <th colspan=\"2\" halign=\"left\">Expert 2</th>\n",
              "      <th colspan=\"2\" halign=\"left\">Expert 3</th>\n",
              "    </tr>\n",
              "    <tr>\n",
              "      <th>component</th>\n",
              "      <th>0</th>\n",
              "      <th>1</th>\n",
              "      <th>0</th>\n",
              "      <th>1</th>\n",
              "      <th>0</th>\n",
              "      <th>1</th>\n",
              "    </tr>\n",
              "  </thead>\n",
              "  <tbody>\n",
              "    <tr>\n",
              "      <th>Wine 1</th>\n",
              "      <td>-2.764432</td>\n",
              "      <td>-1.104812</td>\n",
              "      <td>-2.213928</td>\n",
              "      <td>-0.863519</td>\n",
              "      <td>-1.538106</td>\n",
              "      <td>0.442545</td>\n",
              "    </tr>\n",
              "    <tr>\n",
              "      <th>Wine 2</th>\n",
              "      <td>0.773034</td>\n",
              "      <td>0.298919</td>\n",
              "      <td>0.284247</td>\n",
              "      <td>-0.132135</td>\n",
              "      <td>0.613771</td>\n",
              "      <td>-0.759009</td>\n",
              "    </tr>\n",
              "    <tr>\n",
              "      <th>Wine 3</th>\n",
              "      <td>1.991398</td>\n",
              "      <td>0.805893</td>\n",
              "      <td>2.111508</td>\n",
              "      <td>0.499718</td>\n",
              "      <td>2.850084</td>\n",
              "      <td>-3.796390</td>\n",
              "    </tr>\n",
              "    <tr>\n",
              "      <th>Wine 4</th>\n",
              "      <td>1.981456</td>\n",
              "      <td>0.927187</td>\n",
              "      <td>2.393009</td>\n",
              "      <td>1.227146</td>\n",
              "      <td>1.123206</td>\n",
              "      <td>0.560803</td>\n",
              "    </tr>\n",
              "    <tr>\n",
              "      <th>Wine 5</th>\n",
              "      <td>-1.292834</td>\n",
              "      <td>-0.620661</td>\n",
              "      <td>-1.492114</td>\n",
              "      <td>-0.488088</td>\n",
              "      <td>-1.426414</td>\n",
              "      <td>1.273679</td>\n",
              "    </tr>\n",
              "    <tr>\n",
              "      <th>Wine 6</th>\n",
              "      <td>-0.688623</td>\n",
              "      <td>-0.306527</td>\n",
              "      <td>-1.082723</td>\n",
              "      <td>-0.243122</td>\n",
              "      <td>-1.622541</td>\n",
              "      <td>2.278372</td>\n",
              "    </tr>\n",
              "  </tbody>\n",
              "</table>\n",
              "</div>"
            ],
            "text/plain": [
              "group      Expert 1            Expert 2            Expert 3          \n",
              "component         0         1         0         1         0         1\n",
              "Wine 1    -2.764432 -1.104812 -2.213928 -0.863519 -1.538106  0.442545\n",
              "Wine 2     0.773034  0.298919  0.284247 -0.132135  0.613771 -0.759009\n",
              "Wine 3     1.991398  0.805893  2.111508  0.499718  2.850084 -3.796390\n",
              "Wine 4     1.981456  0.927187  2.393009  1.227146  1.123206  0.560803\n",
              "Wine 5    -1.292834 -0.620661 -1.492114 -0.488088 -1.426414  1.273679\n",
              "Wine 6    -0.688623 -0.306527 -1.082723 -0.243122 -1.622541  2.278372"
            ]
          },
          "execution_count": 6,
          "metadata": {},
          "output_type": "execute_result"
        }
      ],
      "source": [
        "mfa.group_row_coordinates(dataset)"
      ]
    },
    {
      "cell_type": "markdown",
      "metadata": {
        "id": "_93eax6csIKs"
      },
      "source": [
        "Al igual que para el PCA, puede trazar las coordenadas de la fila con el comando plot_row_coordinates."
      ]
    },
    {
      "cell_type": "code",
      "execution_count": 7,
      "metadata": {
        "id": "ZpzM3GBCsIKs"
      },
      "outputs": [
        {
          "data": {
            "text/html": [
              "\n",
              "<style>\n",
              "  #altair-viz-78e70c2df2f14b7ca183ccc4f63732be.vega-embed {\n",
              "    width: 100%;\n",
              "    display: flex;\n",
              "  }\n",
              "\n",
              "  #altair-viz-78e70c2df2f14b7ca183ccc4f63732be.vega-embed details,\n",
              "  #altair-viz-78e70c2df2f14b7ca183ccc4f63732be.vega-embed details summary {\n",
              "    position: relative;\n",
              "  }\n",
              "</style>\n",
              "<div id=\"altair-viz-78e70c2df2f14b7ca183ccc4f63732be\"></div>\n",
              "<script type=\"text/javascript\">\n",
              "  var VEGA_DEBUG = (typeof VEGA_DEBUG == \"undefined\") ? {} : VEGA_DEBUG;\n",
              "  (function(spec, embedOpt){\n",
              "    let outputDiv = document.currentScript.previousElementSibling;\n",
              "    if (outputDiv.id !== \"altair-viz-78e70c2df2f14b7ca183ccc4f63732be\") {\n",
              "      outputDiv = document.getElementById(\"altair-viz-78e70c2df2f14b7ca183ccc4f63732be\");\n",
              "    }\n",
              "    const paths = {\n",
              "      \"vega\": \"https://cdn.jsdelivr.net/npm/vega@5?noext\",\n",
              "      \"vega-lib\": \"https://cdn.jsdelivr.net/npm/vega-lib?noext\",\n",
              "      \"vega-lite\": \"https://cdn.jsdelivr.net/npm/vega-lite@5.8.0?noext\",\n",
              "      \"vega-embed\": \"https://cdn.jsdelivr.net/npm/vega-embed@6?noext\",\n",
              "    };\n",
              "\n",
              "    function maybeLoadScript(lib, version) {\n",
              "      var key = `${lib.replace(\"-\", \"\")}_version`;\n",
              "      return (VEGA_DEBUG[key] == version) ?\n",
              "        Promise.resolve(paths[lib]) :\n",
              "        new Promise(function(resolve, reject) {\n",
              "          var s = document.createElement('script');\n",
              "          document.getElementsByTagName(\"head\")[0].appendChild(s);\n",
              "          s.async = true;\n",
              "          s.onload = () => {\n",
              "            VEGA_DEBUG[key] = version;\n",
              "            return resolve(paths[lib]);\n",
              "          };\n",
              "          s.onerror = () => reject(`Error loading script: ${paths[lib]}`);\n",
              "          s.src = paths[lib];\n",
              "        });\n",
              "    }\n",
              "\n",
              "    function showError(err) {\n",
              "      outputDiv.innerHTML = `<div class=\"error\" style=\"color:red;\">${err}</div>`;\n",
              "      throw err;\n",
              "    }\n",
              "\n",
              "    function displayChart(vegaEmbed) {\n",
              "      vegaEmbed(outputDiv, spec, embedOpt)\n",
              "        .catch(err => showError(`Javascript Error: ${err.message}<br>This usually means there's a typo in your chart specification. See the javascript console for the full traceback.`));\n",
              "    }\n",
              "\n",
              "    if(typeof define === \"function\" && define.amd) {\n",
              "      requirejs.config({paths});\n",
              "      require([\"vega-embed\"], displayChart, err => showError(`Error loading script: ${err.message}`));\n",
              "    } else {\n",
              "      maybeLoadScript(\"vega\", \"5\")\n",
              "        .then(() => maybeLoadScript(\"vega-lite\", \"5.8.0\"))\n",
              "        .then(() => maybeLoadScript(\"vega-embed\", \"6\"))\n",
              "        .catch(showError)\n",
              "        .then(() => displayChart(vegaEmbed));\n",
              "    }\n",
              "  })({\"config\": {\"view\": {\"continuousWidth\": 300, \"continuousHeight\": 300}}, \"data\": {\"name\": \"data-7ba76e2a7593091b03ee55333b32f3cc\"}, \"mark\": {\"type\": \"circle\"}, \"encoding\": {\"tooltip\": [{\"field\": \"index\", \"type\": \"nominal\"}, {\"field\": \"component 0\", \"type\": \"quantitative\"}, {\"field\": \"component 1\", \"type\": \"quantitative\"}], \"x\": {\"axis\": {\"title\": \"component 0 \\u2014 88.82%\"}, \"field\": \"component 0\", \"scale\": {\"zero\": false}, \"type\": \"quantitative\"}, \"y\": {\"axis\": {\"title\": \"component 1 \\u2014 11.18%\"}, \"field\": \"component 1\", \"scale\": {\"zero\": false}, \"type\": \"quantitative\"}}, \"params\": [{\"name\": \"param_1\", \"select\": {\"type\": \"interval\", \"encodings\": [\"x\", \"y\"]}, \"bind\": \"scales\"}], \"$schema\": \"https://vega.github.io/schema/vega-lite/v5.8.0.json\", \"datasets\": {\"data-7ba76e2a7593091b03ee55333b32f3cc\": [{\"index\": \"Wine 1\", \"component 0\": -2.172155132048861, \"component 1\": -0.508595641219378}, {\"index\": \"Wine 2\", \"component 0\": 0.557017276575849, \"component 1\": -0.19740840358948075}, {\"index\": \"Wine 3\", \"component 0\": 2.317663316335471, \"component 1\": -0.8302594762332377}, {\"index\": \"Wine 4\", \"component 0\": 1.8325573279633354, \"component 1\": 0.9050455800200187}, {\"index\": \"Wine 5\", \"component 0\": -1.4037872883482339, \"component 1\": 0.054976713943079486}, {\"index\": \"Wine 6\", \"component 0\": -1.131295500477561, \"component 1\": 0.5762412270789978}]}}, {\"mode\": \"vega-lite\"});\n",
              "</script>"
            ],
            "text/plain": [
              "alt.Chart(...)"
            ]
          },
          "execution_count": 7,
          "metadata": {},
          "output_type": "execute_result"
        }
      ],
      "source": [
        "mfa.plot(\n",
        "    dataset,\n",
        "    x_component=0,\n",
        "    y_component=1\n",
        ")"
      ]
    }
  ],
  "metadata": {
    "colab": {
      "provenance": []
    },
    "kernelspec": {
      "display_name": "Python 3.9.12 ('base')",
      "language": "python",
      "name": "python3"
    },
    "language_info": {
      "codemirror_mode": {
        "name": "ipython",
        "version": 3
      },
      "file_extension": ".py",
      "mimetype": "text/x-python",
      "name": "python",
      "nbconvert_exporter": "python",
      "pygments_lexer": "ipython3",
      "version": "3.10.6"
    },
    "vscode": {
      "interpreter": {
        "hash": "7b7015134b0c30094ddb8e69f25e0f13a7d5f157e2cc56c7f71bb28784c4e96c"
      }
    }
  },
  "nbformat": 4,
  "nbformat_minor": 0
}
